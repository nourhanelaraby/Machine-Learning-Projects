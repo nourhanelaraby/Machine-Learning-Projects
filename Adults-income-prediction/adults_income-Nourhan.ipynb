{
 "cells": [
  {
   "cell_type": "markdown",
   "metadata": {
    "id": "pF7RcM2MBslC"
   },
   "source": [
    "# Finding Adult Income -Decision Tree"
   ]
  },
  {
   "cell_type": "markdown",
   "metadata": {
    "id": "gfudGvRGBslP"
   },
   "source": [
    "----\n",
    "## Introduction\n",
    "\n",
    "In this project, you will employ several supervised algorithms to accurately model individuals' income using data collected from the 1994 U.S. Census. You will then choose the best candidate algorithm from preliminary results and further optimize this algorithm to best model the data.\n",
    "\n",
    "Your goal with this implementation is to construct a model that accurately predicts whether an individual makes more than $50,000. This sort of task can arise in a non-profit setting, where organizations survive on donations.  Understanding an individual's income can help a non-profit better understand how large of a donation to request, or whether or not they should reach out to begin with.  While it can be difficult to determine an individual's general income bracket directly from public sources, we can infer this value from other publically available features. \n",
    "\n",
    "The dataset for this project originates from the [UCI Machine Learning Repository](https://archive.ics.uci.edu/ml/datasets/Census+Income)."
   ]
  },
  {
   "cell_type": "markdown",
   "metadata": {
    "id": "W0XW2rvfBslQ"
   },
   "source": [
    "----\n",
    "## Importing libraries"
   ]
  },
  {
   "cell_type": "code",
   "execution_count": 1,
   "metadata": {
    "id": "sat0tK6IBslR"
   },
   "outputs": [],
   "source": [
    "# Import libraries necessary for this project\n",
    "import numpy as np\n",
    "import pandas as pd\n",
    "from time import time\n",
    "import matplotlib.pyplot as plt\n",
    "%matplotlib inline\n",
    "import seaborn as sns\n",
    "\n",
    "from sklearn.model_selection import train_test_split\n",
    "from sklearn.preprocessing import MinMaxScaler\n",
    "\n",
    "from sklearn.tree import DecisionTreeClassifier\n",
    "from sklearn.linear_model import LogisticRegression\n",
    "from sklearn.svm import SVC\n",
    "\n",
    "from sklearn.metrics import accuracy_score, recall_score, precision_score, f1_score, classification_report\n",
    "#from scikitplot.metrics import plot_confusion_matrix\n",
    "\n",
    "from sklearn.model_selection import GridSearchCV\n",
    "from sklearn.metrics import make_scorer\n",
    "\n",
    "from sklearn.base import clone\n",
    "\n",
    "from sklearn.ensemble import RandomForestClassifier\n",
    "from sklearn.ensemble import AdaBoostClassifier\n",
    "from sklearn.ensemble import GradientBoostingClassifier\n",
    "from sklearn.metrics import accuracy_score, f1_score\n",
    "from sklearn.metrics import classification_report\n",
    "from sklearn.impute import SimpleImputer\n",
    "from sklearn.compose import ColumnTransformer\n",
    "from sklearn.pipeline import Pipeline\n",
    "# for one hot encoding with sklearn\n",
    "from sklearn.preprocessing import OneHotEncoder"
   ]
  },
  {
   "cell_type": "code",
   "execution_count": 2,
   "metadata": {
    "id": "hg2mB-4zBslS",
    "outputId": "a5c4d8a7-0763-4c61-b03f-bc350cf2e916"
   },
   "outputs": [
    {
     "data": {
      "text/html": [
       "<div>\n",
       "<style scoped>\n",
       "    .dataframe tbody tr th:only-of-type {\n",
       "        vertical-align: middle;\n",
       "    }\n",
       "\n",
       "    .dataframe tbody tr th {\n",
       "        vertical-align: top;\n",
       "    }\n",
       "\n",
       "    .dataframe thead th {\n",
       "        text-align: right;\n",
       "    }\n",
       "</style>\n",
       "<table border=\"1\" class=\"dataframe\">\n",
       "  <thead>\n",
       "    <tr style=\"text-align: right;\">\n",
       "      <th></th>\n",
       "      <th>age</th>\n",
       "      <th>workclass</th>\n",
       "      <th>fnlwgt</th>\n",
       "      <th>education</th>\n",
       "      <th>educational-num</th>\n",
       "      <th>marital-status</th>\n",
       "      <th>occupation</th>\n",
       "      <th>relationship</th>\n",
       "      <th>race</th>\n",
       "      <th>gender</th>\n",
       "      <th>capital-gain</th>\n",
       "      <th>capital-loss</th>\n",
       "      <th>hours-per-week</th>\n",
       "      <th>native-country</th>\n",
       "      <th>income</th>\n",
       "    </tr>\n",
       "  </thead>\n",
       "  <tbody>\n",
       "    <tr>\n",
       "      <th>0</th>\n",
       "      <td>25</td>\n",
       "      <td>Private</td>\n",
       "      <td>226802</td>\n",
       "      <td>11th</td>\n",
       "      <td>7</td>\n",
       "      <td>Never-married</td>\n",
       "      <td>Machine-op-inspct</td>\n",
       "      <td>Own-child</td>\n",
       "      <td>Black</td>\n",
       "      <td>Male</td>\n",
       "      <td>0</td>\n",
       "      <td>0</td>\n",
       "      <td>40</td>\n",
       "      <td>United-States</td>\n",
       "      <td>&lt;=50K</td>\n",
       "    </tr>\n",
       "    <tr>\n",
       "      <th>1</th>\n",
       "      <td>38</td>\n",
       "      <td>Private</td>\n",
       "      <td>89814</td>\n",
       "      <td>HS-grad</td>\n",
       "      <td>9</td>\n",
       "      <td>Married-civ-spouse</td>\n",
       "      <td>Farming-fishing</td>\n",
       "      <td>Husband</td>\n",
       "      <td>White</td>\n",
       "      <td>Male</td>\n",
       "      <td>0</td>\n",
       "      <td>0</td>\n",
       "      <td>50</td>\n",
       "      <td>United-States</td>\n",
       "      <td>&lt;=50K</td>\n",
       "    </tr>\n",
       "    <tr>\n",
       "      <th>2</th>\n",
       "      <td>28</td>\n",
       "      <td>Local-gov</td>\n",
       "      <td>336951</td>\n",
       "      <td>Assoc-acdm</td>\n",
       "      <td>12</td>\n",
       "      <td>Married-civ-spouse</td>\n",
       "      <td>Protective-serv</td>\n",
       "      <td>Husband</td>\n",
       "      <td>White</td>\n",
       "      <td>Male</td>\n",
       "      <td>0</td>\n",
       "      <td>0</td>\n",
       "      <td>40</td>\n",
       "      <td>United-States</td>\n",
       "      <td>&gt;50K</td>\n",
       "    </tr>\n",
       "    <tr>\n",
       "      <th>3</th>\n",
       "      <td>44</td>\n",
       "      <td>Private</td>\n",
       "      <td>160323</td>\n",
       "      <td>Some-college</td>\n",
       "      <td>10</td>\n",
       "      <td>Married-civ-spouse</td>\n",
       "      <td>Machine-op-inspct</td>\n",
       "      <td>Husband</td>\n",
       "      <td>Black</td>\n",
       "      <td>Male</td>\n",
       "      <td>7688</td>\n",
       "      <td>0</td>\n",
       "      <td>40</td>\n",
       "      <td>United-States</td>\n",
       "      <td>&gt;50K</td>\n",
       "    </tr>\n",
       "    <tr>\n",
       "      <th>4</th>\n",
       "      <td>18</td>\n",
       "      <td>NaN</td>\n",
       "      <td>103497</td>\n",
       "      <td>Some-college</td>\n",
       "      <td>10</td>\n",
       "      <td>Never-married</td>\n",
       "      <td>NaN</td>\n",
       "      <td>Own-child</td>\n",
       "      <td>White</td>\n",
       "      <td>Female</td>\n",
       "      <td>0</td>\n",
       "      <td>0</td>\n",
       "      <td>30</td>\n",
       "      <td>United-States</td>\n",
       "      <td>&lt;=50K</td>\n",
       "    </tr>\n",
       "  </tbody>\n",
       "</table>\n",
       "</div>"
      ],
      "text/plain": [
       "   age  workclass  fnlwgt     education  educational-num      marital-status  \\\n",
       "0   25    Private  226802          11th                7       Never-married   \n",
       "1   38    Private   89814       HS-grad                9  Married-civ-spouse   \n",
       "2   28  Local-gov  336951    Assoc-acdm               12  Married-civ-spouse   \n",
       "3   44    Private  160323  Some-college               10  Married-civ-spouse   \n",
       "4   18        NaN  103497  Some-college               10       Never-married   \n",
       "\n",
       "          occupation relationship   race  gender  capital-gain  capital-loss  \\\n",
       "0  Machine-op-inspct    Own-child  Black    Male             0             0   \n",
       "1    Farming-fishing      Husband  White    Male             0             0   \n",
       "2    Protective-serv      Husband  White    Male             0             0   \n",
       "3  Machine-op-inspct      Husband  Black    Male          7688             0   \n",
       "4                NaN    Own-child  White  Female             0             0   \n",
       "\n",
       "   hours-per-week native-country income  \n",
       "0              40  United-States  <=50K  \n",
       "1              50  United-States  <=50K  \n",
       "2              40  United-States   >50K  \n",
       "3              40  United-States   >50K  \n",
       "4              30  United-States  <=50K  "
      ]
     },
     "execution_count": 2,
     "metadata": {},
     "output_type": "execute_result"
    }
   ],
   "source": [
    "file_path=\"data/adult.csv\"\n",
    "data=pd.read_csv(file_path,na_values=\"?\")\n",
    "data=pd.read_csv('../input/adult-income-dataset/adult.csv',,na_values=\"?\")\n",
    "#data = pd.read_csv(\"E:\\Machine Learning\\Applied Data Science & AI\\Day4\\census.csv\")\n",
    "data.head()"
   ]
  },
  {
   "cell_type": "markdown",
   "metadata": {},
   "source": [
    "## Featureset Description "
   ]
  },
  {
   "cell_type": "markdown",
   "metadata": {
    "id": "hGmXvUqBBslU"
   },
   "source": [
    "\n",
    "\n",
    "* **age**: continuous. \n",
    "* **workclass**: Private, Self-emp-not-inc, Self-emp-inc, Federal-gov, Local-gov, State-gov, Without-pay, Never-worked. \n",
    "* **education**: Bachelors, Some-college, 11th, HS-grad, Prof-school, Assoc-acdm, Assoc-voc, 9th, 7th-8th, 12th, Masters, 1st-4th, 10th, Doctorate, 5th-6th, Preschool. \n",
    "* **education-num**: continuous. \n",
    "* **marital-status**: Married-civ-spouse, Divorced, Never-married, Separated, Widowed, Married-spouse-absent, Married-AF-spouse. \n",
    "* **occupation**: Tech-support, Craft-repair, Other-service, Sales, Exec-managerial, Prof-specialty, Handlers-cleaners, Machine-op-inspct, Adm-clerical, Farming-fishing, Transport-moving, Priv-house-serv, Protective-serv, Armed-Forces. \n",
    "* **relationship**: Wife, Own-child, Husband, Not-in-family, Other-relative, Unmarried. \n",
    "* **race**: Black, White, Asian-Pac-Islander, Amer-Indian-Eskimo, Other. \n",
    "* **gender**: Female, Male. \n",
    "* **capital-gain**: continuous. \n",
    "* **capital-loss**: continuous. \n",
    "* **hours-per-week**: continuous. \n",
    "* **native-country**: United-States, Cambodia, England, Puerto-Rico, Canada, Germany, Outlying-US(Guam-USVI-etc), India, Japan, Greece, South, China, Cuba, Iran, Honduras, Philippines, Italy, Poland, Jamaica, Vietnam, Mexico, Portugal, Ireland, France, Dominican-Republic, Laos, Ecuador, Taiwan, Haiti, Columbia, Hungary, Guatemala, Nicaragua, Scotland, Thailand, Yugoslavia, El-Salvador, Trinadad&Tobago, Peru, Hong, Holand-Netherlands."
   ]
  },
  {
   "cell_type": "markdown",
   "metadata": {
    "id": "Ol5E-56kBslV"
   },
   "source": [
    "## Exploratory Data Analysis\n",
    "A cursory investigation of the dataset will determine how many individuals fit into either group, and will tell us about the percentage of these individuals making more than \\$50,000.\n",
    "- The total number of records, `'n_records'`\n",
    "- The number of individuals making more than \\$50,000 annually, `'n_greater_50k'`.\n",
    "- The number of individuals making at most \\$50,000 annually, `'n_at_most_50k'`.\n",
    "- The percentage of individuals making more than \\$50,000 annually, `'greater_percent'`.\n",
    "\n",
    "**secondly,** I showed distribution of numerical features\n",
    "\n",
    "**Third,** I showed distribution of categorical features\n",
    "\n",
    "**Fourth,** I showed distribution of categorical features across income\n",
    "\n"
   ]
  },
  {
   "cell_type": "code",
   "execution_count": 3,
   "metadata": {
    "id": "twOi8g5jBslV",
    "outputId": "7e1fa844-dfc3-4054-c707-ce847697db6e"
   },
   "outputs": [
    {
     "name": "stdout",
     "output_type": "stream",
     "text": [
      "<class 'pandas.core.frame.DataFrame'>\n",
      "RangeIndex: 48842 entries, 0 to 48841\n",
      "Data columns (total 15 columns):\n",
      " #   Column           Non-Null Count  Dtype \n",
      "---  ------           --------------  ----- \n",
      " 0   age              48842 non-null  int64 \n",
      " 1   workclass        46043 non-null  object\n",
      " 2   fnlwgt           48842 non-null  int64 \n",
      " 3   education        48842 non-null  object\n",
      " 4   educational-num  48842 non-null  int64 \n",
      " 5   marital-status   48842 non-null  object\n",
      " 6   occupation       46033 non-null  object\n",
      " 7   relationship     48842 non-null  object\n",
      " 8   race             48842 non-null  object\n",
      " 9   gender           48842 non-null  object\n",
      " 10  capital-gain     48842 non-null  int64 \n",
      " 11  capital-loss     48842 non-null  int64 \n",
      " 12  hours-per-week   48842 non-null  int64 \n",
      " 13  native-country   47985 non-null  object\n",
      " 14  income           48842 non-null  object\n",
      "dtypes: int64(6), object(9)\n",
      "memory usage: 5.6+ MB\n"
     ]
    }
   ],
   "source": [
    "data.info()"
   ]
  },
  {
   "cell_type": "code",
   "execution_count": 4,
   "metadata": {},
   "outputs": [],
   "source": [
    "# There are missing values in workclass,occupation,native country"
   ]
  },
  {
   "cell_type": "markdown",
   "metadata": {},
   "source": [
    "### Showing percentage of labels for output"
   ]
  },
  {
   "cell_type": "code",
   "execution_count": 5,
   "metadata": {},
   "outputs": [
    {
     "name": "stdout",
     "output_type": "stream",
     "text": [
      "Total number of records: 48842\n",
      "Individuals making more than $50,000: 11687\n",
      "Individuals making at less than $50,000: 37155\n",
      "Percentage of individuals making more than $50,000: 24%\n"
     ]
    }
   ],
   "source": [
    "# Total number of records\n",
    "n_records = len(data)\n",
    "\n",
    "# Number of records where individual's income is more than $50,000\n",
    "n_greater_50k = len(data[data[\"income\"]==\">50K\"])\n",
    "\n",
    "# Number of records where individual's income is at most $50,000\n",
    "n_less_50k = len(data[data[\"income\"]==\"<=50K\"])\n",
    "\n",
    "# Percentage of individuals whose income is more than $50,000\n",
    "greater_percent = round((n_greater_50k/n_records)*100)\n",
    "\n",
    "# Print the results\n",
    "print(\"Total number of records: {}\".format(n_records))\n",
    "print(\"Individuals making more than $50,000: {}\".format(n_greater_50k))\n",
    "print(\"Individuals making at less than $50,000: {}\".format(n_less_50k))\n",
    "print(\"Percentage of individuals making more than $50,000: {}%\".format(greater_percent))"
   ]
  },
  {
   "cell_type": "markdown",
   "metadata": {},
   "source": [
    "### Distribution of Numerical Data"
   ]
  },
  {
   "cell_type": "code",
   "execution_count": 6,
   "metadata": {},
   "outputs": [
    {
     "data": {
      "image/png": "[encoded data removed]",
      "text/plain": [
       "<Figure size 1440x720 with 6 Axes>"
      ]
     },
     "metadata": {
      "needs_background": "light"
     },
     "output_type": "display_data"
    }
   ],
   "source": [
    "data.hist(figsize=(20,10))\n",
    "plt.show()"
   ]
  },
  {
   "cell_type": "code",
   "execution_count": 7,
   "metadata": {},
   "outputs": [
    {
     "data": {
      "image/png": "[encoded data removed]",
      "text/plain": [
       "<Figure size 432x288 with 1 Axes>"
      ]
     },
     "metadata": {
      "needs_background": "light"
     },
     "output_type": "display_data"
    },
    {
     "data": {
      "image/png": "[encoded data removed]",
      "text/plain": [
       "<Figure size 432x288 with 1 Axes>"
      ]
     },
     "metadata": {
      "needs_background": "light"
     },
     "output_type": "display_data"
    },
    {
     "data": {
      "image/png": "[encoded data removed]",
      "text/plain": [
       "<Figure size 432x288 with 1 Axes>"
      ]
     },
     "metadata": {
      "needs_background": "light"
     },
     "output_type": "display_data"
    },
    {
     "data": {
      "image/png": "[encoded data removed]",
      "text/plain": [
       "<Figure size 432x288 with 1 Axes>"
      ]
     },
     "metadata": {
      "needs_background": "light"
     },
     "output_type": "display_data"
    },
    {
     "data": {
      "image/png": "[encoded data removed]",
      "text/plain": [
       "<Figure size 432x288 with 1 Axes>"
      ]
     },
     "metadata": {
      "needs_background": "light"
     },
     "output_type": "display_data"
    },
    {
     "data": {
      "image/png": "[encoded data removed]",
      "text/plain": [
       "<Figure size 432x288 with 1 Axes>"
      ]
     },
     "metadata": {
      "needs_background": "light"
     },
     "output_type": "display_data"
    }
   ],
   "source": [
    "num_feature = data.columns[data.dtypes!='object']\n",
    "\n",
    "def my_plot(feature):\n",
    "    plt.hist(data[feature])\n",
    "    plt.title(feature)\n",
    "    plt.show()\n",
    "        \n",
    "for i in num_feature:\n",
    "    my_plot(i)"
   ]
  },
  {
   "cell_type": "code",
   "execution_count": 8,
   "metadata": {},
   "outputs": [],
   "source": [
    "# capital gain and capital loss have high skewness"
   ]
  },
  {
   "cell_type": "code",
   "execution_count": 9,
   "metadata": {},
   "outputs": [
    {
     "data": {
      "text/plain": [
       "Index(['age', 'workclass', 'fnlwgt', 'education', 'educational-num',\n",
       "       'marital-status', 'occupation', 'relationship', 'race', 'gender',\n",
       "       'capital-gain', 'capital-loss', 'hours-per-week', 'native-country',\n",
       "       'income'],\n",
       "      dtype='object')"
      ]
     },
     "execution_count": 9,
     "metadata": {},
     "output_type": "execute_result"
    }
   ],
   "source": [
    "data.columns"
   ]
  },
  {
   "cell_type": "markdown",
   "metadata": {},
   "source": [
    "### showing the count across categorical columns"
   ]
  },
  {
   "cell_type": "code",
   "execution_count": 10,
   "metadata": {},
   "outputs": [
    {
     "name": "stdout",
     "output_type": "stream",
     "text": [
      "workclass\n",
      "Private             33906\n",
      "Self-emp-not-inc     3862\n",
      "Local-gov            3136\n",
      "State-gov            1981\n",
      "Self-emp-inc         1695\n",
      "Federal-gov          1432\n",
      "Without-pay            21\n",
      "Never-worked           10\n",
      "Name: workclass, dtype: int64\n",
      "-------------------\n",
      "education\n",
      "HS-grad         15784\n",
      "Some-college    10878\n",
      "Bachelors        8025\n",
      "Masters          2657\n",
      "Assoc-voc        2061\n",
      "11th             1812\n",
      "Assoc-acdm       1601\n",
      "10th             1389\n",
      "7th-8th           955\n",
      "Prof-school       834\n",
      "9th               756\n",
      "12th              657\n",
      "Doctorate         594\n",
      "5th-6th           509\n",
      "1st-4th           247\n",
      "Preschool          83\n",
      "Name: education, dtype: int64\n",
      "-------------------\n",
      "marital-status\n",
      "Married-civ-spouse       22379\n",
      "Never-married            16117\n",
      "Divorced                  6633\n",
      "Separated                 1530\n",
      "Widowed                   1518\n",
      "Married-spouse-absent      628\n",
      "Married-AF-spouse           37\n",
      "Name: marital-status, dtype: int64\n",
      "-------------------\n",
      "occupation\n",
      "Prof-specialty       6172\n",
      "Craft-repair         6112\n",
      "Exec-managerial      6086\n",
      "Adm-clerical         5611\n",
      "Sales                5504\n",
      "Other-service        4923\n",
      "Machine-op-inspct    3022\n",
      "Transport-moving     2355\n",
      "Handlers-cleaners    2072\n",
      "Farming-fishing      1490\n",
      "Tech-support         1446\n",
      "Protective-serv       983\n",
      "Priv-house-serv       242\n",
      "Armed-Forces           15\n",
      "Name: occupation, dtype: int64\n",
      "-------------------\n",
      "relationship\n",
      "Husband           19716\n",
      "Not-in-family     12583\n",
      "Own-child          7581\n",
      "Unmarried          5125\n",
      "Wife               2331\n",
      "Other-relative     1506\n",
      "Name: relationship, dtype: int64\n",
      "-------------------\n",
      "race\n",
      "White                 41762\n",
      "Black                  4685\n",
      "Asian-Pac-Islander     1519\n",
      "Amer-Indian-Eskimo      470\n",
      "Other                   406\n",
      "Name: race, dtype: int64\n",
      "-------------------\n",
      "gender\n",
      "Male      32650\n",
      "Female    16192\n",
      "Name: gender, dtype: int64\n",
      "-------------------\n",
      "native-country\n",
      "United-States                 43832\n",
      "Mexico                          951\n",
      "Philippines                     295\n",
      "Germany                         206\n",
      "Puerto-Rico                     184\n",
      "Canada                          182\n",
      "El-Salvador                     155\n",
      "India                           151\n",
      "Cuba                            138\n",
      "England                         127\n",
      "China                           122\n",
      "South                           115\n",
      "Jamaica                         106\n",
      "Italy                           105\n",
      "Dominican-Republic              103\n",
      "Japan                            92\n",
      "Guatemala                        88\n",
      "Poland                           87\n",
      "Vietnam                          86\n",
      "Columbia                         85\n",
      "Haiti                            75\n",
      "Portugal                         67\n",
      "Taiwan                           65\n",
      "Iran                             59\n",
      "Nicaragua                        49\n",
      "Greece                           49\n",
      "Peru                             46\n",
      "Ecuador                          45\n",
      "France                           38\n",
      "Ireland                          37\n",
      "Thailand                         30\n",
      "Hong                             30\n",
      "Cambodia                         28\n",
      "Trinadad&Tobago                  27\n",
      "Yugoslavia                       23\n",
      "Outlying-US(Guam-USVI-etc)       23\n",
      "Laos                             23\n",
      "Scotland                         21\n",
      "Honduras                         20\n",
      "Hungary                          19\n",
      "Holand-Netherlands                1\n",
      "Name: native-country, dtype: int64\n",
      "-------------------\n",
      "income\n",
      "<=50K    37155\n",
      ">50K     11687\n",
      "Name: income, dtype: int64\n",
      "-------------------\n"
     ]
    }
   ],
   "source": [
    "cat_cols=data.select_dtypes(include=\"object\").columns\n",
    "for i in cat_cols:\n",
    "    print(i)\n",
    "    print(data[i].value_counts())\n",
    "    print(\"-------------------\")"
   ]
  },
  {
   "cell_type": "code",
   "execution_count": 11,
   "metadata": {},
   "outputs": [
    {
     "data": {
      "text/plain": [
       "Index(['workclass', 'education', 'marital-status', 'occupation',\n",
       "       'relationship', 'race', 'gender', 'native-country', 'income'],\n",
       "      dtype='object')"
      ]
     },
     "execution_count": 11,
     "metadata": {},
     "output_type": "execute_result"
    }
   ],
   "source": [
    "cat_cols"
   ]
  },
  {
   "cell_type": "code",
   "execution_count": 12,
   "metadata": {},
   "outputs": [
    {
     "data": {
      "image/png": "[encoded data removed]",
      "text/plain": [
       "<Figure size 1800x1440 with 6 Axes>"
      ]
     },
     "metadata": {
      "needs_background": "light"
     },
     "output_type": "display_data"
    }
   ],
   "source": [
    "fig, ax = plt.subplots(2, 3, figsize=(25, 20))\n",
    "sns.countplot(x='workclass',data=data,ax=ax[0][0])\n",
    "#sns.boxplot(y=data[\"Number of rented bikes\"],ax=ax[0][0])\n",
    "ax[0][0].set_title(\"counts of workclass \")\n",
    "ax[0][0].tick_params(axis='x', rotation=30)\n",
    "sns.countplot(y='education',data=data,ax=ax[0][1])\n",
    "ax[0][1].set_title(\"count of education\")\n",
    "#ax[0][1].tick_params(axis='x', rotation=30)\n",
    "sns.countplot(x='marital-status',data=data,ax=ax[0][2])\n",
    "ax[0][2].set_title(\"count of marital status\")\n",
    "ax[0][2].tick_params(axis='x', rotation=30)\n",
    "sns.countplot(x='gender',data=data,ax=ax[1][0])\n",
    "ax[1][0].set_title(\"count of gender\")\n",
    "sns.countplot(x='relationship',data=data,ax=ax[1][1])\n",
    "ax[1][1].set_title(\"count of relation ship\")\n",
    "sns.countplot(x='income',data=data,ax=ax[1][2])\n",
    "ax[1][2].set_title(\"count of income\");"
   ]
  },
  {
   "cell_type": "markdown",
   "metadata": {},
   "source": [
    "### Showing Distribution of categorical features across income"
   ]
  },
  {
   "cell_type": "markdown",
   "metadata": {},
   "source": [
    "#### showing distribution of income across gender"
   ]
  },
  {
   "cell_type": "code",
   "execution_count": 13,
   "metadata": {
    "scrolled": true
   },
   "outputs": [
    {
     "data": {
      "image/png": "[encoded data removed]",
      "text/plain": [
       "<Figure size 432x288 with 1 Axes>"
      ]
     },
     "metadata": {
      "needs_background": "light"
     },
     "output_type": "display_data"
    }
   ],
   "source": [
    "\n",
    "sns.countplot(x=\"gender\",data=data,hue=\"income\");"
   ]
  },
  {
   "cell_type": "markdown",
   "metadata": {},
   "source": [
    "#### showing distribution of income across workclass"
   ]
  },
  {
   "cell_type": "code",
   "execution_count": 14,
   "metadata": {},
   "outputs": [
    {
     "data": {
      "image/png": "[encoded data removed]",
      "text/plain": [
       "<Figure size 432x288 with 1 Axes>"
      ]
     },
     "metadata": {
      "needs_background": "light"
     },
     "output_type": "display_data"
    }
   ],
   "source": [
    "\n",
    "fig, ax = plt.subplots()\n",
    "sns.countplot(x=\"workclass\",data=data,hue=\"income\");\n",
    "ax.tick_params(axis='x', rotation=30)"
   ]
  },
  {
   "cell_type": "markdown",
   "metadata": {},
   "source": [
    "#### showing distribution of race across income"
   ]
  },
  {
   "cell_type": "code",
   "execution_count": 15,
   "metadata": {},
   "outputs": [
    {
     "data": {
      "image/png": "[encoded data removed]",
      "text/plain": [
       "<Figure size 432x288 with 1 Axes>"
      ]
     },
     "metadata": {
      "needs_background": "light"
     },
     "output_type": "display_data"
    }
   ],
   "source": [
    "\n",
    "fig, ax = plt.subplots()\n",
    "sns.countplot(x=\"race\",data=data,hue=\"income\");\n",
    "ax.tick_params(axis='x', rotation=30)"
   ]
  },
  {
   "cell_type": "code",
   "execution_count": null,
   "metadata": {},
   "outputs": [],
   "source": []
  },
  {
   "cell_type": "code",
   "execution_count": null,
   "metadata": {
    "id": "XXK0A-lKBslW",
    "outputId": "f32f1e90-90dd-43c2-a9a7-f4c4b29fcc9f"
   },
   "outputs": [],
   "source": []
  },
  {
   "cell_type": "markdown",
   "metadata": {
    "id": "W-mv7pwKBslX"
   },
   "source": [
    "----\n",
    "## Preparing the Data\n",
    "Before data can be used as input for machine learning algorithms, it often must be cleaned, formatted, and restructured — this is typically known as **preprocessing**. unFortunately, for this dataset, there are  invalid or missing entries we must deal with, however, there are some qualities about certain features that must be adjusted. This preprocessing can help tremendously with the outcome and predictive power of nearly all learning algorithms."
   ]
  },
  {
   "cell_type": "markdown",
   "metadata": {},
   "source": [
    "### Dropping Not Important Columns"
   ]
  },
  {
   "cell_type": "code",
   "execution_count": 16,
   "metadata": {},
   "outputs": [
    {
     "data": {
      "text/plain": [
       "Index(['age', 'workclass', 'fnlwgt', 'education', 'educational-num',\n",
       "       'marital-status', 'occupation', 'relationship', 'race', 'gender',\n",
       "       'capital-gain', 'capital-loss', 'hours-per-week', 'native-country',\n",
       "       'income'],\n",
       "      dtype='object')"
      ]
     },
     "execution_count": 16,
     "metadata": {},
     "output_type": "execute_result"
    }
   ],
   "source": [
    "data.columns"
   ]
  },
  {
   "cell_type": "markdown",
   "metadata": {},
   "source": [
    "I chose to drop the following columns for following reasons:\n",
    "\n",
    "**1)fnlwgt:** not important information <br>\n",
    "**2)education:** the information it holds is already contained within education-num <br>\n",
    "**3)relationship:** we have already marital-status"
   ]
  },
  {
   "cell_type": "code",
   "execution_count": 17,
   "metadata": {},
   "outputs": [],
   "source": [
    "data.drop([\"fnlwgt\",\"education\",\"relationship\"],axis=1,inplace=True)"
   ]
  },
  {
   "cell_type": "markdown",
   "metadata": {},
   "source": [
    "### Missing Values"
   ]
  },
  {
   "cell_type": "code",
   "execution_count": 18,
   "metadata": {},
   "outputs": [
    {
     "data": {
      "text/html": [
       "<div>\n",
       "<style scoped>\n",
       "    .dataframe tbody tr th:only-of-type {\n",
       "        vertical-align: middle;\n",
       "    }\n",
       "\n",
       "    .dataframe tbody tr th {\n",
       "        vertical-align: top;\n",
       "    }\n",
       "\n",
       "    .dataframe thead th {\n",
       "        text-align: right;\n",
       "    }\n",
       "</style>\n",
       "<table border=\"1\" class=\"dataframe\">\n",
       "  <thead>\n",
       "    <tr style=\"text-align: right;\">\n",
       "      <th></th>\n",
       "      <th>Missing Ratio</th>\n",
       "    </tr>\n",
       "  </thead>\n",
       "  <tbody>\n",
       "    <tr>\n",
       "      <th>occupation</th>\n",
       "      <td>2809</td>\n",
       "    </tr>\n",
       "    <tr>\n",
       "      <th>workclass</th>\n",
       "      <td>2799</td>\n",
       "    </tr>\n",
       "    <tr>\n",
       "      <th>native-country</th>\n",
       "      <td>857</td>\n",
       "    </tr>\n",
       "  </tbody>\n",
       "</table>\n",
       "</div>"
      ],
      "text/plain": [
       "                Missing Ratio\n",
       "occupation               2809\n",
       "workclass                2799\n",
       "native-country            857"
      ]
     },
     "execution_count": 18,
     "metadata": {},
     "output_type": "execute_result"
    }
   ],
   "source": [
    "data_na = data.isnull().sum() \n",
    "data_na  = data_na .drop(data_na [data_na  == 0].index).sort_values(ascending=False)\n",
    "missing_data = pd.DataFrame({'Missing Ratio' :data_na })\n",
    "missing_data.head(20)"
   ]
  },
  {
   "cell_type": "code",
   "execution_count": 19,
   "metadata": {},
   "outputs": [
    {
     "data": {
      "text/plain": [
       "Text(0.5, 1.0, 'countt missing data by feature')"
      ]
     },
     "execution_count": 19,
     "metadata": {},
     "output_type": "execute_result"
    },
    {
     "data": {
      "image/png": "[encoded data removed]",
      "text/plain": [
       "<Figure size 360x360 with 1 Axes>"
      ]
     },
     "metadata": {
      "needs_background": "light"
     },
     "output_type": "display_data"
    }
   ],
   "source": [
    "\n",
    "f, ax = plt.subplots(figsize=(5, 5))\n",
    "plt.xticks(rotation='90')\n",
    "sns.barplot(y=data_na.index, x=data_na)\n",
    "plt.xlabel('Features', fontsize=15)\n",
    "plt.ylabel('count of missing values', fontsize=10)\n",
    "plt.title('countt missing data by feature', fontsize=10)"
   ]
  },
  {
   "cell_type": "code",
   "execution_count": 20,
   "metadata": {},
   "outputs": [
    {
     "data": {
      "image/png": "[encoded data removed]",
      "text/plain": [
       "<Figure size 432x288 with 1 Axes>"
      ]
     },
     "metadata": {
      "needs_background": "light"
     },
     "output_type": "display_data"
    }
   ],
   "source": [
    "data.isna().sum().sort_values(ascending=True).plot(kind=\"barh\");"
   ]
  },
  {
   "cell_type": "markdown",
   "metadata": {},
   "source": [
    "\n",
    "\n",
    "### Transforming Skewed Continuous Features\n",
    "A dataset may sometimes contain at least one feature whose values tend to lie near a single number, but will also have a non-trivial number of vastly larger or smaller values than that single number.  Algorithms can be sensitive to such distributions of values and can underperform if the range is not properly normalized."
   ]
  },
  {
   "cell_type": "markdown",
   "metadata": {},
   "source": [
    "For highly-skewed feature distributions such as `'capital-gain'` and `'capital-loss'`, it is common practice to apply a <a href=\"https://en.wikipedia.org/wiki/Data_transformation_(statistics)\">logarithmic transformation</a> on the data so that the very large and very small values do not negatively affect the performance of a learning algorithm. Using a logarithmic transformation significantly reduces the range of values caused by outliers. Care must be taken when applying this transformation however: The logarithm of `0` is undefined, so we must translate the values by a small amount above `0` to apply the the logarithm successfully."
   ]
  },
  {
   "cell_type": "code",
   "execution_count": 21,
   "metadata": {},
   "outputs": [],
   "source": [
    "data['capital-gain_log'] = np.log((data['capital-gain'])+1)\n",
    "data['capital-loss_log'] = np.log((data['capital-loss'])+1)"
   ]
  },
  {
   "cell_type": "code",
   "execution_count": 22,
   "metadata": {},
   "outputs": [
    {
     "data": {
      "text/html": [
       "<div>\n",
       "<style scoped>\n",
       "    .dataframe tbody tr th:only-of-type {\n",
       "        vertical-align: middle;\n",
       "    }\n",
       "\n",
       "    .dataframe tbody tr th {\n",
       "        vertical-align: top;\n",
       "    }\n",
       "\n",
       "    .dataframe thead th {\n",
       "        text-align: right;\n",
       "    }\n",
       "</style>\n",
       "<table border=\"1\" class=\"dataframe\">\n",
       "  <thead>\n",
       "    <tr style=\"text-align: right;\">\n",
       "      <th></th>\n",
       "      <th>age</th>\n",
       "      <th>workclass</th>\n",
       "      <th>educational-num</th>\n",
       "      <th>marital-status</th>\n",
       "      <th>occupation</th>\n",
       "      <th>race</th>\n",
       "      <th>gender</th>\n",
       "      <th>capital-gain</th>\n",
       "      <th>capital-loss</th>\n",
       "      <th>hours-per-week</th>\n",
       "      <th>native-country</th>\n",
       "      <th>income</th>\n",
       "      <th>capital-gain_log</th>\n",
       "      <th>capital-loss_log</th>\n",
       "    </tr>\n",
       "  </thead>\n",
       "  <tbody>\n",
       "    <tr>\n",
       "      <th>0</th>\n",
       "      <td>25</td>\n",
       "      <td>Private</td>\n",
       "      <td>7</td>\n",
       "      <td>Never-married</td>\n",
       "      <td>Machine-op-inspct</td>\n",
       "      <td>Black</td>\n",
       "      <td>Male</td>\n",
       "      <td>0</td>\n",
       "      <td>0</td>\n",
       "      <td>40</td>\n",
       "      <td>United-States</td>\n",
       "      <td>&lt;=50K</td>\n",
       "      <td>0.000000</td>\n",
       "      <td>0.0</td>\n",
       "    </tr>\n",
       "    <tr>\n",
       "      <th>1</th>\n",
       "      <td>38</td>\n",
       "      <td>Private</td>\n",
       "      <td>9</td>\n",
       "      <td>Married-civ-spouse</td>\n",
       "      <td>Farming-fishing</td>\n",
       "      <td>White</td>\n",
       "      <td>Male</td>\n",
       "      <td>0</td>\n",
       "      <td>0</td>\n",
       "      <td>50</td>\n",
       "      <td>United-States</td>\n",
       "      <td>&lt;=50K</td>\n",
       "      <td>0.000000</td>\n",
       "      <td>0.0</td>\n",
       "    </tr>\n",
       "    <tr>\n",
       "      <th>2</th>\n",
       "      <td>28</td>\n",
       "      <td>Local-gov</td>\n",
       "      <td>12</td>\n",
       "      <td>Married-civ-spouse</td>\n",
       "      <td>Protective-serv</td>\n",
       "      <td>White</td>\n",
       "      <td>Male</td>\n",
       "      <td>0</td>\n",
       "      <td>0</td>\n",
       "      <td>40</td>\n",
       "      <td>United-States</td>\n",
       "      <td>&gt;50K</td>\n",
       "      <td>0.000000</td>\n",
       "      <td>0.0</td>\n",
       "    </tr>\n",
       "    <tr>\n",
       "      <th>3</th>\n",
       "      <td>44</td>\n",
       "      <td>Private</td>\n",
       "      <td>10</td>\n",
       "      <td>Married-civ-spouse</td>\n",
       "      <td>Machine-op-inspct</td>\n",
       "      <td>Black</td>\n",
       "      <td>Male</td>\n",
       "      <td>7688</td>\n",
       "      <td>0</td>\n",
       "      <td>40</td>\n",
       "      <td>United-States</td>\n",
       "      <td>&gt;50K</td>\n",
       "      <td>8.947546</td>\n",
       "      <td>0.0</td>\n",
       "    </tr>\n",
       "    <tr>\n",
       "      <th>4</th>\n",
       "      <td>18</td>\n",
       "      <td>NaN</td>\n",
       "      <td>10</td>\n",
       "      <td>Never-married</td>\n",
       "      <td>NaN</td>\n",
       "      <td>White</td>\n",
       "      <td>Female</td>\n",
       "      <td>0</td>\n",
       "      <td>0</td>\n",
       "      <td>30</td>\n",
       "      <td>United-States</td>\n",
       "      <td>&lt;=50K</td>\n",
       "      <td>0.000000</td>\n",
       "      <td>0.0</td>\n",
       "    </tr>\n",
       "  </tbody>\n",
       "</table>\n",
       "</div>"
      ],
      "text/plain": [
       "   age  workclass  educational-num      marital-status         occupation  \\\n",
       "0   25    Private                7       Never-married  Machine-op-inspct   \n",
       "1   38    Private                9  Married-civ-spouse    Farming-fishing   \n",
       "2   28  Local-gov               12  Married-civ-spouse    Protective-serv   \n",
       "3   44    Private               10  Married-civ-spouse  Machine-op-inspct   \n",
       "4   18        NaN               10       Never-married                NaN   \n",
       "\n",
       "    race  gender  capital-gain  capital-loss  hours-per-week native-country  \\\n",
       "0  Black    Male             0             0              40  United-States   \n",
       "1  White    Male             0             0              50  United-States   \n",
       "2  White    Male             0             0              40  United-States   \n",
       "3  Black    Male          7688             0              40  United-States   \n",
       "4  White  Female             0             0              30  United-States   \n",
       "\n",
       "  income  capital-gain_log  capital-loss_log  \n",
       "0  <=50K          0.000000               0.0  \n",
       "1  <=50K          0.000000               0.0  \n",
       "2   >50K          0.000000               0.0  \n",
       "3   >50K          8.947546               0.0  \n",
       "4  <=50K          0.000000               0.0  "
      ]
     },
     "execution_count": 22,
     "metadata": {},
     "output_type": "execute_result"
    }
   ],
   "source": [
    "data.head()"
   ]
  },
  {
   "cell_type": "code",
   "execution_count": 23,
   "metadata": {},
   "outputs": [
    {
     "data": {
      "text/html": [
       "<div>\n",
       "<style scoped>\n",
       "    .dataframe tbody tr th:only-of-type {\n",
       "        vertical-align: middle;\n",
       "    }\n",
       "\n",
       "    .dataframe tbody tr th {\n",
       "        vertical-align: top;\n",
       "    }\n",
       "\n",
       "    .dataframe thead th {\n",
       "        text-align: right;\n",
       "    }\n",
       "</style>\n",
       "<table border=\"1\" class=\"dataframe\">\n",
       "  <thead>\n",
       "    <tr style=\"text-align: right;\">\n",
       "      <th></th>\n",
       "      <th>age</th>\n",
       "      <th>workclass</th>\n",
       "      <th>educational-num</th>\n",
       "      <th>marital-status</th>\n",
       "      <th>occupation</th>\n",
       "      <th>race</th>\n",
       "      <th>gender</th>\n",
       "      <th>hours-per-week</th>\n",
       "      <th>native-country</th>\n",
       "      <th>income</th>\n",
       "      <th>capital-gain_log</th>\n",
       "      <th>capital-loss_log</th>\n",
       "    </tr>\n",
       "  </thead>\n",
       "  <tbody>\n",
       "    <tr>\n",
       "      <th>0</th>\n",
       "      <td>25</td>\n",
       "      <td>Private</td>\n",
       "      <td>7</td>\n",
       "      <td>Never-married</td>\n",
       "      <td>Machine-op-inspct</td>\n",
       "      <td>Black</td>\n",
       "      <td>Male</td>\n",
       "      <td>40</td>\n",
       "      <td>United-States</td>\n",
       "      <td>&lt;=50K</td>\n",
       "      <td>0.000000</td>\n",
       "      <td>0.0</td>\n",
       "    </tr>\n",
       "    <tr>\n",
       "      <th>1</th>\n",
       "      <td>38</td>\n",
       "      <td>Private</td>\n",
       "      <td>9</td>\n",
       "      <td>Married-civ-spouse</td>\n",
       "      <td>Farming-fishing</td>\n",
       "      <td>White</td>\n",
       "      <td>Male</td>\n",
       "      <td>50</td>\n",
       "      <td>United-States</td>\n",
       "      <td>&lt;=50K</td>\n",
       "      <td>0.000000</td>\n",
       "      <td>0.0</td>\n",
       "    </tr>\n",
       "    <tr>\n",
       "      <th>2</th>\n",
       "      <td>28</td>\n",
       "      <td>Local-gov</td>\n",
       "      <td>12</td>\n",
       "      <td>Married-civ-spouse</td>\n",
       "      <td>Protective-serv</td>\n",
       "      <td>White</td>\n",
       "      <td>Male</td>\n",
       "      <td>40</td>\n",
       "      <td>United-States</td>\n",
       "      <td>&gt;50K</td>\n",
       "      <td>0.000000</td>\n",
       "      <td>0.0</td>\n",
       "    </tr>\n",
       "    <tr>\n",
       "      <th>3</th>\n",
       "      <td>44</td>\n",
       "      <td>Private</td>\n",
       "      <td>10</td>\n",
       "      <td>Married-civ-spouse</td>\n",
       "      <td>Machine-op-inspct</td>\n",
       "      <td>Black</td>\n",
       "      <td>Male</td>\n",
       "      <td>40</td>\n",
       "      <td>United-States</td>\n",
       "      <td>&gt;50K</td>\n",
       "      <td>8.947546</td>\n",
       "      <td>0.0</td>\n",
       "    </tr>\n",
       "    <tr>\n",
       "      <th>4</th>\n",
       "      <td>18</td>\n",
       "      <td>NaN</td>\n",
       "      <td>10</td>\n",
       "      <td>Never-married</td>\n",
       "      <td>NaN</td>\n",
       "      <td>White</td>\n",
       "      <td>Female</td>\n",
       "      <td>30</td>\n",
       "      <td>United-States</td>\n",
       "      <td>&lt;=50K</td>\n",
       "      <td>0.000000</td>\n",
       "      <td>0.0</td>\n",
       "    </tr>\n",
       "  </tbody>\n",
       "</table>\n",
       "</div>"
      ],
      "text/plain": [
       "   age  workclass  educational-num      marital-status         occupation  \\\n",
       "0   25    Private                7       Never-married  Machine-op-inspct   \n",
       "1   38    Private                9  Married-civ-spouse    Farming-fishing   \n",
       "2   28  Local-gov               12  Married-civ-spouse    Protective-serv   \n",
       "3   44    Private               10  Married-civ-spouse  Machine-op-inspct   \n",
       "4   18        NaN               10       Never-married                NaN   \n",
       "\n",
       "    race  gender  hours-per-week native-country income  capital-gain_log  \\\n",
       "0  Black    Male              40  United-States  <=50K          0.000000   \n",
       "1  White    Male              50  United-States  <=50K          0.000000   \n",
       "2  White    Male              40  United-States   >50K          0.000000   \n",
       "3  Black    Male              40  United-States   >50K          8.947546   \n",
       "4  White  Female              30  United-States  <=50K          0.000000   \n",
       "\n",
       "   capital-loss_log  \n",
       "0               0.0  \n",
       "1               0.0  \n",
       "2               0.0  \n",
       "3               0.0  \n",
       "4               0.0  "
      ]
     },
     "execution_count": 23,
     "metadata": {},
     "output_type": "execute_result"
    }
   ],
   "source": [
    "data_log_transformed = data.drop(['capital-gain', 'capital-loss'], axis=1)\n",
    "data_log_transformed.head()"
   ]
  },
  {
   "cell_type": "code",
   "execution_count": 24,
   "metadata": {},
   "outputs": [
    {
     "data": {
      "image/png": "[encoded data removed]",
      "text/plain": [
       "<Figure size 432x288 with 1 Axes>"
      ]
     },
     "metadata": {
      "needs_background": "light"
     },
     "output_type": "display_data"
    },
    {
     "data": {
      "image/png": "[encoded data removed]",
      "text/plain": [
       "<Figure size 432x288 with 1 Axes>"
      ]
     },
     "metadata": {
      "needs_background": "light"
     },
     "output_type": "display_data"
    }
   ],
   "source": [
    "for i in ['capital-gain_log', 'capital-loss_log']:\n",
    "    my_plot(i)"
   ]
  },
  {
   "cell_type": "markdown",
   "metadata": {},
   "source": [
    "### replacing labels by 1 and 0"
   ]
  },
  {
   "cell_type": "code",
   "execution_count": 25,
   "metadata": {},
   "outputs": [
    {
     "data": {
      "text/html": [
       "<div>\n",
       "<style scoped>\n",
       "    .dataframe tbody tr th:only-of-type {\n",
       "        vertical-align: middle;\n",
       "    }\n",
       "\n",
       "    .dataframe tbody tr th {\n",
       "        vertical-align: top;\n",
       "    }\n",
       "\n",
       "    .dataframe thead th {\n",
       "        text-align: right;\n",
       "    }\n",
       "</style>\n",
       "<table border=\"1\" class=\"dataframe\">\n",
       "  <thead>\n",
       "    <tr style=\"text-align: right;\">\n",
       "      <th></th>\n",
       "      <th>age</th>\n",
       "      <th>workclass</th>\n",
       "      <th>educational-num</th>\n",
       "      <th>marital-status</th>\n",
       "      <th>occupation</th>\n",
       "      <th>race</th>\n",
       "      <th>gender</th>\n",
       "      <th>hours-per-week</th>\n",
       "      <th>native-country</th>\n",
       "      <th>income</th>\n",
       "      <th>capital-gain_log</th>\n",
       "      <th>capital-loss_log</th>\n",
       "    </tr>\n",
       "  </thead>\n",
       "  <tbody>\n",
       "    <tr>\n",
       "      <th>0</th>\n",
       "      <td>25</td>\n",
       "      <td>Private</td>\n",
       "      <td>7</td>\n",
       "      <td>Never-married</td>\n",
       "      <td>Machine-op-inspct</td>\n",
       "      <td>Black</td>\n",
       "      <td>Male</td>\n",
       "      <td>40</td>\n",
       "      <td>United-States</td>\n",
       "      <td>0</td>\n",
       "      <td>0.000000</td>\n",
       "      <td>0.0</td>\n",
       "    </tr>\n",
       "    <tr>\n",
       "      <th>1</th>\n",
       "      <td>38</td>\n",
       "      <td>Private</td>\n",
       "      <td>9</td>\n",
       "      <td>Married-civ-spouse</td>\n",
       "      <td>Farming-fishing</td>\n",
       "      <td>White</td>\n",
       "      <td>Male</td>\n",
       "      <td>50</td>\n",
       "      <td>United-States</td>\n",
       "      <td>0</td>\n",
       "      <td>0.000000</td>\n",
       "      <td>0.0</td>\n",
       "    </tr>\n",
       "    <tr>\n",
       "      <th>2</th>\n",
       "      <td>28</td>\n",
       "      <td>Local-gov</td>\n",
       "      <td>12</td>\n",
       "      <td>Married-civ-spouse</td>\n",
       "      <td>Protective-serv</td>\n",
       "      <td>White</td>\n",
       "      <td>Male</td>\n",
       "      <td>40</td>\n",
       "      <td>United-States</td>\n",
       "      <td>1</td>\n",
       "      <td>0.000000</td>\n",
       "      <td>0.0</td>\n",
       "    </tr>\n",
       "    <tr>\n",
       "      <th>3</th>\n",
       "      <td>44</td>\n",
       "      <td>Private</td>\n",
       "      <td>10</td>\n",
       "      <td>Married-civ-spouse</td>\n",
       "      <td>Machine-op-inspct</td>\n",
       "      <td>Black</td>\n",
       "      <td>Male</td>\n",
       "      <td>40</td>\n",
       "      <td>United-States</td>\n",
       "      <td>1</td>\n",
       "      <td>8.947546</td>\n",
       "      <td>0.0</td>\n",
       "    </tr>\n",
       "    <tr>\n",
       "      <th>4</th>\n",
       "      <td>18</td>\n",
       "      <td>NaN</td>\n",
       "      <td>10</td>\n",
       "      <td>Never-married</td>\n",
       "      <td>NaN</td>\n",
       "      <td>White</td>\n",
       "      <td>Female</td>\n",
       "      <td>30</td>\n",
       "      <td>United-States</td>\n",
       "      <td>0</td>\n",
       "      <td>0.000000</td>\n",
       "      <td>0.0</td>\n",
       "    </tr>\n",
       "  </tbody>\n",
       "</table>\n",
       "</div>"
      ],
      "text/plain": [
       "   age  workclass  educational-num      marital-status         occupation  \\\n",
       "0   25    Private                7       Never-married  Machine-op-inspct   \n",
       "1   38    Private                9  Married-civ-spouse    Farming-fishing   \n",
       "2   28  Local-gov               12  Married-civ-spouse    Protective-serv   \n",
       "3   44    Private               10  Married-civ-spouse  Machine-op-inspct   \n",
       "4   18        NaN               10       Never-married                NaN   \n",
       "\n",
       "    race  gender  hours-per-week native-country  income  capital-gain_log  \\\n",
       "0  Black    Male              40  United-States       0          0.000000   \n",
       "1  White    Male              50  United-States       0          0.000000   \n",
       "2  White    Male              40  United-States       1          0.000000   \n",
       "3  Black    Male              40  United-States       1          8.947546   \n",
       "4  White  Female              30  United-States       0          0.000000   \n",
       "\n",
       "   capital-loss_log  \n",
       "0               0.0  \n",
       "1               0.0  \n",
       "2               0.0  \n",
       "3               0.0  \n",
       "4               0.0  "
      ]
     },
     "execution_count": 25,
     "metadata": {},
     "output_type": "execute_result"
    }
   ],
   "source": [
    "# Encode the 'income_label' data to numerical values\n",
    "data_log_transformed['income'].replace({\"<=50K\":0, \">50K\":1}, inplace=True)\n",
    "data_log_transformed.head()"
   ]
  },
  {
   "cell_type": "markdown",
   "metadata": {},
   "source": [
    "### high Crdinality for some categorical variables"
   ]
  },
  {
   "cell_type": "markdown",
   "metadata": {},
   "source": [
    "High cardinality may pose the following problems: \n",
    "\n",
    "- Variables with too many labels tend to dominate over those with only a few labels, particularly in **Tree based** algorithms.\n",
    "\n",
    "- A big number of labels within a variable may introduce noise with little, if any, information, therefore making machine learning models prone to over-fit.\n",
    "\n",
    "- Some of the labels may only be present in the training data set, but not in the test set, therefore machine learning algorithms may over-fit to the training set.\n",
    "\n",
    "- Contrarily, some labels may appear only in the test set, therefore leaving the machine learning algorithms unable to perform a calculation over the new (unseen) observation."
   ]
  },
  {
   "cell_type": "code",
   "execution_count": 26,
   "metadata": {},
   "outputs": [],
   "source": [
    "cat_cols=list(data_log_transformed.select_dtypes(include=\"object\").columns)"
   ]
  },
  {
   "cell_type": "code",
   "execution_count": 27,
   "metadata": {},
   "outputs": [
    {
     "name": "stdout",
     "output_type": "stream",
     "text": [
      "variable:  workclass  number of labels:  8\n",
      "variable:  marital-status  number of labels:  7\n",
      "variable:  occupation  number of labels:  14\n",
      "variable:  race  number of labels:  5\n",
      "variable:  gender  number of labels:  2\n",
      "variable:  native-country  number of labels:  41\n"
     ]
    }
   ],
   "source": [
    "for col in cat_cols:\n",
    "    print('variable: ', col, ' number of labels: ', data_log_transformed[col].nunique())"
   ]
  },
  {
   "cell_type": "markdown",
   "metadata": {},
   "source": [
    "There is high cardinality in the following variables:\n",
    "    * occupation    <br>\n",
    "    * native-country <br>\n",
    "    * work-class <br>\n",
    "    * marital_status <br>"
   ]
  },
  {
   "cell_type": "code",
   "execution_count": 28,
   "metadata": {},
   "outputs": [
    {
     "data": {
      "text/plain": [
       "United-States                 43832\n",
       "Mexico                          951\n",
       "Philippines                     295\n",
       "Germany                         206\n",
       "Puerto-Rico                     184\n",
       "Canada                          182\n",
       "El-Salvador                     155\n",
       "India                           151\n",
       "Cuba                            138\n",
       "England                         127\n",
       "China                           122\n",
       "South                           115\n",
       "Jamaica                         106\n",
       "Italy                           105\n",
       "Dominican-Republic              103\n",
       "Japan                            92\n",
       "Guatemala                        88\n",
       "Poland                           87\n",
       "Vietnam                          86\n",
       "Columbia                         85\n",
       "Haiti                            75\n",
       "Portugal                         67\n",
       "Taiwan                           65\n",
       "Iran                             59\n",
       "Nicaragua                        49\n",
       "Greece                           49\n",
       "Peru                             46\n",
       "Ecuador                          45\n",
       "France                           38\n",
       "Ireland                          37\n",
       "Thailand                         30\n",
       "Hong                             30\n",
       "Cambodia                         28\n",
       "Trinadad&Tobago                  27\n",
       "Yugoslavia                       23\n",
       "Outlying-US(Guam-USVI-etc)       23\n",
       "Laos                             23\n",
       "Scotland                         21\n",
       "Honduras                         20\n",
       "Hungary                          19\n",
       "Holand-Netherlands                1\n",
       "Name: native-country, dtype: int64"
      ]
     },
     "execution_count": 28,
     "metadata": {},
     "output_type": "execute_result"
    }
   ],
   "source": [
    "data_log_transformed[\"native-country\"].value_counts()  # starting from japan to the end under \"other category\""
   ]
  },
  {
   "cell_type": "code",
   "execution_count": 29,
   "metadata": {
    "id": "UT707IpxBslX"
   },
   "outputs": [
    {
     "name": "stdout",
     "output_type": "stream",
     "text": [
      "Private             0.694198\n",
      "Self-emp-not-inc    0.079071\n",
      "Local-gov           0.064207\n",
      "State-gov           0.040559\n",
      "Self-emp-inc        0.034704\n",
      "Federal-gov         0.029319\n",
      "Without-pay         0.000430\n",
      "Never-worked        0.000205\n",
      "Name: workclass, dtype: float64\n"
     ]
    },
    {
     "data": {
      "image/png": "[encoded data removed]",
      "text/plain": [
       "<Figure size 432x288 with 1 Axes>"
      ]
     },
     "metadata": {
      "needs_background": "light"
     },
     "output_type": "display_data"
    },
    {
     "name": "stdout",
     "output_type": "stream",
     "text": [
      "Married-civ-spouse       0.458192\n",
      "Never-married            0.329982\n",
      "Divorced                 0.135805\n",
      "Separated                0.031325\n",
      "Widowed                  0.031080\n",
      "Married-spouse-absent    0.012858\n",
      "Married-AF-spouse        0.000758\n",
      "Name: marital-status, dtype: float64\n"
     ]
    },
    {
     "data": {
      "image/png": "[encoded data removed]",
      "text/plain": [
       "<Figure size 432x288 with 1 Axes>"
      ]
     },
     "metadata": {
      "needs_background": "light"
     },
     "output_type": "display_data"
    },
    {
     "name": "stdout",
     "output_type": "stream",
     "text": [
      "Prof-specialty       0.126367\n",
      "Craft-repair         0.125138\n",
      "Exec-managerial      0.124606\n",
      "Adm-clerical         0.114881\n",
      "Sales                0.112690\n",
      "Other-service        0.100794\n",
      "Machine-op-inspct    0.061873\n",
      "Transport-moving     0.048217\n",
      "Handlers-cleaners    0.042423\n",
      "Farming-fishing      0.030507\n",
      "Tech-support         0.029606\n",
      "Protective-serv      0.020126\n",
      "Priv-house-serv      0.004955\n",
      "Armed-Forces         0.000307\n",
      "Name: occupation, dtype: float64\n"
     ]
    },
    {
     "data": {
      "image/png": "[encoded data removed]",
      "text/plain": [
       "<Figure size 432x288 with 1 Axes>"
      ]
     },
     "metadata": {
      "needs_background": "light"
     },
     "output_type": "display_data"
    },
    {
     "name": "stdout",
     "output_type": "stream",
     "text": [
      "White                 0.855043\n",
      "Black                 0.095922\n",
      "Asian-Pac-Islander    0.031100\n",
      "Amer-Indian-Eskimo    0.009623\n",
      "Other                 0.008313\n",
      "Name: race, dtype: float64\n"
     ]
    },
    {
     "data": {
      "image/png": "[encoded data removed]",
      "text/plain": [
       "<Figure size 432x288 with 1 Axes>"
      ]
     },
     "metadata": {
      "needs_background": "light"
     },
     "output_type": "display_data"
    },
    {
     "name": "stdout",
     "output_type": "stream",
     "text": [
      "Male      0.668482\n",
      "Female    0.331518\n",
      "Name: gender, dtype: float64\n"
     ]
    },
    {
     "data": {
      "image/png": "[encoded data removed]",
      "text/plain": [
       "<Figure size 432x288 with 1 Axes>"
      ]
     },
     "metadata": {
      "needs_background": "light"
     },
     "output_type": "display_data"
    },
    {
     "name": "stdout",
     "output_type": "stream",
     "text": [
      "United-States                 0.897424\n",
      "Mexico                        0.019471\n",
      "Philippines                   0.006040\n",
      "Germany                       0.004218\n",
      "Puerto-Rico                   0.003767\n",
      "Canada                        0.003726\n",
      "El-Salvador                   0.003173\n",
      "India                         0.003092\n",
      "Cuba                          0.002825\n",
      "England                       0.002600\n",
      "China                         0.002498\n",
      "South                         0.002355\n",
      "Jamaica                       0.002170\n",
      "Italy                         0.002150\n",
      "Dominican-Republic            0.002109\n",
      "Japan                         0.001884\n",
      "Guatemala                     0.001802\n",
      "Poland                        0.001781\n",
      "Vietnam                       0.001761\n",
      "Columbia                      0.001740\n",
      "Haiti                         0.001536\n",
      "Portugal                      0.001372\n",
      "Taiwan                        0.001331\n",
      "Iran                          0.001208\n",
      "Nicaragua                     0.001003\n",
      "Greece                        0.001003\n",
      "Peru                          0.000942\n",
      "Ecuador                       0.000921\n",
      "France                        0.000778\n",
      "Ireland                       0.000758\n",
      "Thailand                      0.000614\n",
      "Hong                          0.000614\n",
      "Cambodia                      0.000573\n",
      "Trinadad&Tobago               0.000553\n",
      "Yugoslavia                    0.000471\n",
      "Outlying-US(Guam-USVI-etc)    0.000471\n",
      "Laos                          0.000471\n",
      "Scotland                      0.000430\n",
      "Honduras                      0.000409\n",
      "Hungary                       0.000389\n",
      "Holand-Netherlands            0.000020\n",
      "Name: native-country, dtype: float64\n"
     ]
    },
    {
     "data": {
      "image/png": "[encoded data removed]",
      "text/plain": [
       "<Figure size 432x288 with 1 Axes>"
      ]
     },
     "metadata": {
      "needs_background": "light"
     },
     "output_type": "display_data"
    }
   ],
   "source": [
    "total_data = len(data_log_transformed)\n",
    "\n",
    "# for each categorical variable\n",
    "for col in cat_cols:\n",
    "\n",
    "    # count the number of persons per category\n",
    "    # and divide by total persons\n",
    "\n",
    "    # aka percentage of houses per category\n",
    "\n",
    "    temp_df = pd.Series(data_log_transformed[col].value_counts() / total_data)\n",
    "    print(temp_df)\n",
    "    # make plot with the above percentages\n",
    "    fig = temp_df.sort_values(ascending=False).plot.bar()\n",
    "    fig.set_xlabel(col)\n",
    "\n",
    "    # add a line at 5 % to flag the threshold for rare categories\n",
    "    fig.axhline(y=0.05, color='red')\n",
    "    fig.set_ylabel('Percentage of persons in this '+col)\n",
    "    plt.show()"
   ]
  },
  {
   "cell_type": "code",
   "execution_count": 30,
   "metadata": {
    "id": "L-rRXkDgBslY"
   },
   "outputs": [],
   "source": [
    "def group_rare_labels(df, var,num):\n",
    "\n",
    "    total_length = len(df)\n",
    "\n",
    "    # first I calculate the % of houses for each category\n",
    "    temp_df = pd.Series(df[var].value_counts() / total_length)\n",
    "\n",
    "    # now I create a dictionary to replace the rare labels with the\n",
    "    # string 'rare' if they are present in less than 5% of houses\n",
    "\n",
    "    grouping_dict = {\n",
    "        k: ('rare' if k not in temp_df[temp_df >= num].index else k)\n",
    "        for k in temp_df.index\n",
    "    }\n",
    "\n",
    "    # now I replace the rare categories\n",
    "    tmp = df[var].map(grouping_dict)\n",
    "\n",
    "    return tmp"
   ]
  },
  {
   "cell_type": "code",
   "execution_count": 31,
   "metadata": {
    "id": "fO0Bx4DsBslZ"
   },
   "outputs": [
    {
     "data": {
      "text/plain": [
       "['workclass',\n",
       " 'marital-status',\n",
       " 'occupation',\n",
       " 'race',\n",
       " 'gender',\n",
       " 'native-country']"
      ]
     },
     "execution_count": 31,
     "metadata": {},
     "output_type": "execute_result"
    }
   ],
   "source": [
    "cat_cols"
   ]
  },
  {
   "cell_type": "code",
   "execution_count": 32,
   "metadata": {
    "id": "0dk4vrO9Bsla"
   },
   "outputs": [],
   "source": [
    "data_log_transformed['workclass']=group_rare_labels(data_log_transformed,'workclass',0.02)"
   ]
  },
  {
   "cell_type": "code",
   "execution_count": 33,
   "metadata": {},
   "outputs": [],
   "source": [
    "data_log_transformed['marital-status']=group_rare_labels(data_log_transformed, 'marital-status',0.03)"
   ]
  },
  {
   "cell_type": "code",
   "execution_count": 34,
   "metadata": {},
   "outputs": [],
   "source": [
    "data_log_transformed['occupation']=group_rare_labels(data_log_transformed, 'occupation',0.02)"
   ]
  },
  {
   "cell_type": "code",
   "execution_count": 35,
   "metadata": {},
   "outputs": [],
   "source": [
    "data_log_transformed['native-country']=group_rare_labels(data_log_transformed, 'native-country',0.002)"
   ]
  },
  {
   "cell_type": "code",
   "execution_count": 36,
   "metadata": {},
   "outputs": [
    {
     "data": {
      "text/plain": [
       "United-States         43832\n",
       "rare                   1213\n",
       "Mexico                  951\n",
       "Philippines             295\n",
       "Germany                 206\n",
       "Puerto-Rico             184\n",
       "Canada                  182\n",
       "El-Salvador             155\n",
       "India                   151\n",
       "Cuba                    138\n",
       "England                 127\n",
       "China                   122\n",
       "South                   115\n",
       "Jamaica                 106\n",
       "Italy                   105\n",
       "Dominican-Republic      103\n",
       "Name: native-country, dtype: int64"
      ]
     },
     "execution_count": 36,
     "metadata": {},
     "output_type": "execute_result"
    }
   ],
   "source": [
    "data_log_transformed['native-country'].value_counts()"
   ]
  },
  {
   "cell_type": "markdown",
   "metadata": {
    "id": "MwDJfMSgBsla"
   },
   "source": [
    "### Implementation: Data Preprocessing\n",
    "\n",
    "From the table in **Exploring the Data** above, we can see there are several features for each record that are non-numeric. Typically, learning algorithms expect input to be numeric, which requires that non-numeric features (called *categorical variables*) be converted. One popular way to convert categorical variables is by using the **one-hot encoding** scheme. One-hot encoding creates a _\"dummy\"_ variable for each possible category of each non-numeric feature. For example, assume `someFeature` has three possible entries: `A`, `B`, or `C`. We then encode this feature into `someFeature_A`, `someFeature_B` and `someFeature_C`.\n",
    "\n",
    "|   | someFeature |                    | someFeature_A | someFeature_B | someFeature_C |\n",
    "| :-: | :-: |                            | :-: | :-: | :-: |\n",
    "| 0 |  B  |  | 0 | 1 | 0 |\n",
    "| 1 |  C  | ----> one-hot encode ----> | 0 | 0 | 1 |\n",
    "| 2 |  A  |  | 1 | 0 | 0 |\n",
    "\n",
    "Additionally, as with the non-numeric features, we need to convert the non-numeric target label, `'income'` to numerical values for the learning algorithm to work. Since there are only two possible categories for this label (\"<=50K\" and \">50K\"), we can avoid using one-hot encoding and simply encode these two categories as `0` and `1`, respectively."
   ]
  },
  {
   "cell_type": "markdown",
   "metadata": {
    "id": "hzBFihT5Bslc"
   },
   "source": [
    "### Shuffle and Split Data\n",
    "Now all _categorical variables_ have been converted into numerical features. As always, we will now split the data (both features and their labels) into training and test sets. 80% of the data will be used for training and 20% for testing."
   ]
  },
  {
   "cell_type": "code",
   "execution_count": 37,
   "metadata": {
    "id": "raIncccRBslc"
   },
   "outputs": [],
   "source": [
    "# Split the data into features and target label\n",
    "X = data_log_transformed.drop('income', axis=1)\n",
    "y = data_log_transformed['income']"
   ]
  },
  {
   "cell_type": "code",
   "execution_count": 38,
   "metadata": {
    "id": "MQ4i2ePCBslc",
    "outputId": "4b6ee11b-28f9-41a1-ae95-65c6879e39e4"
   },
   "outputs": [
    {
     "name": "stdout",
     "output_type": "stream",
     "text": [
      "Training set has 39073 samples.\n",
      "Testing set has 9769 samples.\n"
     ]
    }
   ],
   "source": [
    "# Split the 'features' and 'income' data into training and testing sets\n",
    "X_train, X_test, y_train, y_test = train_test_split(X, \n",
    "                                                    y, \n",
    "                                                    test_size = 0.2, \n",
    "                                                    random_state = 0)\n",
    "\n",
    "# Show the results of the split\n",
    "print(\"Training set has {} samples.\".format(X_train.shape[0]))\n",
    "print(\"Testing set has {} samples.\".format(X_test.shape[0]))"
   ]
  },
  {
   "cell_type": "code",
   "execution_count": 39,
   "metadata": {},
   "outputs": [
    {
     "data": {
      "text/plain": [
       "['age',\n",
       " 'workclass',\n",
       " 'educational-num',\n",
       " 'marital-status',\n",
       " 'occupation',\n",
       " 'race',\n",
       " 'gender',\n",
       " 'hours-per-week',\n",
       " 'native-country',\n",
       " 'capital-gain_log',\n",
       " 'capital-loss_log']"
      ]
     },
     "execution_count": 39,
     "metadata": {},
     "output_type": "execute_result"
    }
   ],
   "source": [
    "cols_to_use=list(X_train.columns)\n",
    "cols_to_use"
   ]
  },
  {
   "cell_type": "code",
   "execution_count": 40,
   "metadata": {},
   "outputs": [],
   "source": [
    "cols_to_use=['age','workclass','educational-num','marital-status','occupation','race','gender','hours-per-week',\n",
    "             'native-country','capital-gain_log','capital-loss_log']\n",
    "\n",
    "cat_miss=['occupation','workclass','native-country']\n",
    "ohe_cols=['workclass','marital-status','occupation','race','gender','native-country']"
   ]
  },
  {
   "cell_type": "code",
   "execution_count": null,
   "metadata": {},
   "outputs": [],
   "source": []
  },
  {
   "cell_type": "code",
   "execution_count": 41,
   "metadata": {},
   "outputs": [],
   "source": [
    "imp=SimpleImputer(strategy='most_frequent')\n",
    "imp.fit(X_train)\n",
    "X_train = imp.transform(X_train)\n",
    "X_test = imp.transform(X_test)"
   ]
  },
  {
   "cell_type": "code",
   "execution_count": 42,
   "metadata": {},
   "outputs": [
    {
     "data": {
      "text/html": [
       "<div>\n",
       "<style scoped>\n",
       "    .dataframe tbody tr th:only-of-type {\n",
       "        vertical-align: middle;\n",
       "    }\n",
       "\n",
       "    .dataframe tbody tr th {\n",
       "        vertical-align: top;\n",
       "    }\n",
       "\n",
       "    .dataframe thead th {\n",
       "        text-align: right;\n",
       "    }\n",
       "</style>\n",
       "<table border=\"1\" class=\"dataframe\">\n",
       "  <thead>\n",
       "    <tr style=\"text-align: right;\">\n",
       "      <th></th>\n",
       "      <th>age</th>\n",
       "      <th>workclass</th>\n",
       "      <th>educational-num</th>\n",
       "      <th>marital-status</th>\n",
       "      <th>occupation</th>\n",
       "      <th>race</th>\n",
       "      <th>gender</th>\n",
       "      <th>hours-per-week</th>\n",
       "      <th>native-country</th>\n",
       "      <th>capital-gain_log</th>\n",
       "      <th>capital-loss_log</th>\n",
       "    </tr>\n",
       "  </thead>\n",
       "  <tbody>\n",
       "    <tr>\n",
       "      <th>0</th>\n",
       "      <td>20</td>\n",
       "      <td>Private</td>\n",
       "      <td>10</td>\n",
       "      <td>Never-married</td>\n",
       "      <td>Craft-repair</td>\n",
       "      <td>Black</td>\n",
       "      <td>Female</td>\n",
       "      <td>40</td>\n",
       "      <td>United-States</td>\n",
       "      <td>0.0</td>\n",
       "      <td>0.0</td>\n",
       "    </tr>\n",
       "    <tr>\n",
       "      <th>1</th>\n",
       "      <td>42</td>\n",
       "      <td>Private</td>\n",
       "      <td>11</td>\n",
       "      <td>Married-civ-spouse</td>\n",
       "      <td>Craft-repair</td>\n",
       "      <td>White</td>\n",
       "      <td>Male</td>\n",
       "      <td>52</td>\n",
       "      <td>United-States</td>\n",
       "      <td>0.0</td>\n",
       "      <td>0.0</td>\n",
       "    </tr>\n",
       "    <tr>\n",
       "      <th>2</th>\n",
       "      <td>35</td>\n",
       "      <td>State-gov</td>\n",
       "      <td>10</td>\n",
       "      <td>Divorced</td>\n",
       "      <td>Tech-support</td>\n",
       "      <td>White</td>\n",
       "      <td>Female</td>\n",
       "      <td>40</td>\n",
       "      <td>United-States</td>\n",
       "      <td>0.0</td>\n",
       "      <td>0.0</td>\n",
       "    </tr>\n",
       "    <tr>\n",
       "      <th>3</th>\n",
       "      <td>39</td>\n",
       "      <td>Private</td>\n",
       "      <td>9</td>\n",
       "      <td>Divorced</td>\n",
       "      <td>Craft-repair</td>\n",
       "      <td>White</td>\n",
       "      <td>Female</td>\n",
       "      <td>16</td>\n",
       "      <td>United-States</td>\n",
       "      <td>0.0</td>\n",
       "      <td>0.0</td>\n",
       "    </tr>\n",
       "    <tr>\n",
       "      <th>4</th>\n",
       "      <td>24</td>\n",
       "      <td>Private</td>\n",
       "      <td>13</td>\n",
       "      <td>Never-married</td>\n",
       "      <td>Prof-specialty</td>\n",
       "      <td>White</td>\n",
       "      <td>Male</td>\n",
       "      <td>40</td>\n",
       "      <td>United-States</td>\n",
       "      <td>0.0</td>\n",
       "      <td>0.0</td>\n",
       "    </tr>\n",
       "  </tbody>\n",
       "</table>\n",
       "</div>"
      ],
      "text/plain": [
       "  age  workclass educational-num      marital-status      occupation   race  \\\n",
       "0  20    Private              10       Never-married    Craft-repair  Black   \n",
       "1  42    Private              11  Married-civ-spouse    Craft-repair  White   \n",
       "2  35  State-gov              10            Divorced    Tech-support  White   \n",
       "3  39    Private               9            Divorced    Craft-repair  White   \n",
       "4  24    Private              13       Never-married  Prof-specialty  White   \n",
       "\n",
       "   gender hours-per-week native-country capital-gain_log capital-loss_log  \n",
       "0  Female             40  United-States              0.0              0.0  \n",
       "1    Male             52  United-States              0.0              0.0  \n",
       "2  Female             40  United-States              0.0              0.0  \n",
       "3  Female             16  United-States              0.0              0.0  \n",
       "4    Male             40  United-States              0.0              0.0  "
      ]
     },
     "execution_count": 42,
     "metadata": {},
     "output_type": "execute_result"
    }
   ],
   "source": [
    "pd.DataFrame(X_train, columns=cols_to_use).head()"
   ]
  },
  {
   "cell_type": "code",
   "execution_count": 43,
   "metadata": {},
   "outputs": [],
   "source": [
    "X_train=pd.DataFrame(X_train, columns=cols_to_use)"
   ]
  },
  {
   "cell_type": "code",
   "execution_count": 44,
   "metadata": {},
   "outputs": [],
   "source": [
    "X_test=pd.DataFrame(X_test, columns=cols_to_use)"
   ]
  },
  {
   "cell_type": "code",
   "execution_count": 45,
   "metadata": {},
   "outputs": [
    {
     "name": "stdout",
     "output_type": "stream",
     "text": [
      "<class 'pandas.core.frame.DataFrame'>\n",
      "RangeIndex: 39073 entries, 0 to 39072\n",
      "Data columns (total 11 columns):\n",
      " #   Column            Non-Null Count  Dtype \n",
      "---  ------            --------------  ----- \n",
      " 0   age               39073 non-null  object\n",
      " 1   workclass         39073 non-null  object\n",
      " 2   educational-num   39073 non-null  object\n",
      " 3   marital-status    39073 non-null  object\n",
      " 4   occupation        39073 non-null  object\n",
      " 5   race              39073 non-null  object\n",
      " 6   gender            39073 non-null  object\n",
      " 7   hours-per-week    39073 non-null  object\n",
      " 8   native-country    39073 non-null  object\n",
      " 9   capital-gain_log  39073 non-null  object\n",
      " 10  capital-loss_log  39073 non-null  object\n",
      "dtypes: object(11)\n",
      "memory usage: 3.3+ MB\n"
     ]
    }
   ],
   "source": [
    "X_train.info()"
   ]
  },
  {
   "cell_type": "code",
   "execution_count": 46,
   "metadata": {},
   "outputs": [],
   "source": [
    "cols_to_conv=['age', 'educational-num','hours-per-week', 'capital-gain_log', 'capital-loss_log']\n",
    "X_train[cols_to_conv]=X_train[cols_to_conv].astype('int64')\n",
    "X_test[cols_to_conv]=X_test[cols_to_conv].astype('int64')"
   ]
  },
  {
   "cell_type": "code",
   "execution_count": 47,
   "metadata": {},
   "outputs": [
    {
     "name": "stdout",
     "output_type": "stream",
     "text": [
      "<class 'pandas.core.frame.DataFrame'>\n",
      "RangeIndex: 39073 entries, 0 to 39072\n",
      "Data columns (total 11 columns):\n",
      " #   Column            Non-Null Count  Dtype \n",
      "---  ------            --------------  ----- \n",
      " 0   age               39073 non-null  int64 \n",
      " 1   workclass         39073 non-null  object\n",
      " 2   educational-num   39073 non-null  int64 \n",
      " 3   marital-status    39073 non-null  object\n",
      " 4   occupation        39073 non-null  object\n",
      " 5   race              39073 non-null  object\n",
      " 6   gender            39073 non-null  object\n",
      " 7   hours-per-week    39073 non-null  int64 \n",
      " 8   native-country    39073 non-null  object\n",
      " 9   capital-gain_log  39073 non-null  int64 \n",
      " 10  capital-loss_log  39073 non-null  int64 \n",
      "dtypes: int64(5), object(6)\n",
      "memory usage: 3.3+ MB\n"
     ]
    }
   ],
   "source": [
    "X_train.info()"
   ]
  },
  {
   "cell_type": "code",
   "execution_count": 48,
   "metadata": {},
   "outputs": [
    {
     "name": "stdout",
     "output_type": "stream",
     "text": [
      "54 total features after one-hot encoding.\n",
      "Index(['age', 'educational-num', 'hours-per-week', 'capital-gain_log',\n",
      "       'capital-loss_log', 'workclass_Federal-gov', 'workclass_Local-gov',\n",
      "       'workclass_Private', 'workclass_Self-emp-inc',\n",
      "       'workclass_Self-emp-not-inc', 'workclass_State-gov', 'workclass_rare',\n",
      "       'marital-status_Divorced', 'marital-status_Married-civ-spouse',\n",
      "       'marital-status_Never-married', 'marital-status_Separated',\n",
      "       'marital-status_Widowed', 'marital-status_rare',\n",
      "       'occupation_Adm-clerical', 'occupation_Craft-repair',\n",
      "       'occupation_Exec-managerial', 'occupation_Farming-fishing',\n",
      "       'occupation_Handlers-cleaners', 'occupation_Machine-op-inspct',\n",
      "       'occupation_Other-service', 'occupation_Prof-specialty',\n",
      "       'occupation_Protective-serv', 'occupation_Sales',\n",
      "       'occupation_Tech-support', 'occupation_Transport-moving',\n",
      "       'occupation_rare', 'race_Amer-Indian-Eskimo', 'race_Asian-Pac-Islander',\n",
      "       'race_Black', 'race_Other', 'race_White', 'gender_Female',\n",
      "       'gender_Male', 'native-country_Canada', 'native-country_China',\n",
      "       'native-country_Cuba', 'native-country_Dominican-Republic',\n",
      "       'native-country_El-Salvador', 'native-country_England',\n",
      "       'native-country_Germany', 'native-country_India',\n",
      "       'native-country_Italy', 'native-country_Jamaica',\n",
      "       'native-country_Mexico', 'native-country_Philippines',\n",
      "       'native-country_Puerto-Rico', 'native-country_South',\n",
      "       'native-country_United-States', 'native-country_rare'],\n",
      "      dtype='object')\n"
     ]
    }
   ],
   "source": [
    "# One-hot encode the categorical features data\n",
    "X_train = pd.get_dummies(X_train)\n",
    "X_test= pd.get_dummies(X_test)\n",
    "\n",
    "# Print the number of features after one-hot encoding\n",
    "print(\"{} total features after one-hot encoding.\".format(len(X_train.columns)))\n",
    "print(X_train.columns)"
   ]
  },
  {
   "cell_type": "code",
   "execution_count": 49,
   "metadata": {
    "id": "ZYYk671kBslf",
    "outputId": "b3d761e8-6163-48ae-abfa-bc9bf89ad9e9"
   },
   "outputs": [
    {
     "data": {
      "text/plain": [
       "22729    0\n",
       "8650     0\n",
       "26605    0\n",
       "15864    0\n",
       "2516     0\n",
       "        ..\n",
       "21243    0\n",
       "45891    0\n",
       "42613    1\n",
       "43567    0\n",
       "2732     1\n",
       "Name: income, Length: 39073, dtype: int64"
      ]
     },
     "execution_count": 49,
     "metadata": {},
     "output_type": "execute_result"
    }
   ],
   "source": [
    "y_train"
   ]
  },
  {
   "cell_type": "code",
   "execution_count": 50,
   "metadata": {
    "id": "5aGAeIAHBslf",
    "outputId": "37b17d35-9fe5-41f5-c187-cc47a251193d"
   },
   "outputs": [
    {
     "data": {
      "text/plain": [
       "0        0\n",
       "1        0\n",
       "2        0\n",
       "3        0\n",
       "4        0\n",
       "        ..\n",
       "39068    0\n",
       "39069    0\n",
       "39070    1\n",
       "39071    0\n",
       "39072    1\n",
       "Name: income, Length: 39073, dtype: int64"
      ]
     },
     "execution_count": 50,
     "metadata": {},
     "output_type": "execute_result"
    }
   ],
   "source": [
    "y_train_scaled = y_train.reset_index(drop=True)\n",
    "y_train_scaled"
   ]
  },
  {
   "cell_type": "code",
   "execution_count": 51,
   "metadata": {
    "id": "obfeVtMmBslf",
    "outputId": "cbd8bc31-81ef-4955-9320-82d063510496"
   },
   "outputs": [
    {
     "data": {
      "text/plain": [
       "0       0\n",
       "1       1\n",
       "2       1\n",
       "3       0\n",
       "4       0\n",
       "       ..\n",
       "9764    1\n",
       "9765    0\n",
       "9766    0\n",
       "9767    0\n",
       "9768    0\n",
       "Name: income, Length: 9769, dtype: int64"
      ]
     },
     "execution_count": 51,
     "metadata": {},
     "output_type": "execute_result"
    }
   ],
   "source": [
    "y_test_scaled = y_test.reset_index(drop=True)\n",
    "y_test_scaled"
   ]
  },
  {
   "cell_type": "markdown",
   "metadata": {
    "id": "d0B3i4DjBslg"
   },
   "source": [
    "Observation of X_train dataframe before and after Scaling"
   ]
  },
  {
   "cell_type": "code",
   "execution_count": 52,
   "metadata": {},
   "outputs": [
    {
     "data": {
      "text/html": [
       "<div>\n",
       "<style scoped>\n",
       "    .dataframe tbody tr th:only-of-type {\n",
       "        vertical-align: middle;\n",
       "    }\n",
       "\n",
       "    .dataframe tbody tr th {\n",
       "        vertical-align: top;\n",
       "    }\n",
       "\n",
       "    .dataframe thead th {\n",
       "        text-align: right;\n",
       "    }\n",
       "</style>\n",
       "<table border=\"1\" class=\"dataframe\">\n",
       "  <thead>\n",
       "    <tr style=\"text-align: right;\">\n",
       "      <th></th>\n",
       "      <th>age</th>\n",
       "      <th>educational-num</th>\n",
       "      <th>hours-per-week</th>\n",
       "      <th>capital-gain_log</th>\n",
       "      <th>capital-loss_log</th>\n",
       "      <th>workclass_Federal-gov</th>\n",
       "      <th>workclass_Local-gov</th>\n",
       "      <th>workclass_Private</th>\n",
       "      <th>workclass_Self-emp-inc</th>\n",
       "      <th>workclass_Self-emp-not-inc</th>\n",
       "      <th>...</th>\n",
       "      <th>native-country_Germany</th>\n",
       "      <th>native-country_India</th>\n",
       "      <th>native-country_Italy</th>\n",
       "      <th>native-country_Jamaica</th>\n",
       "      <th>native-country_Mexico</th>\n",
       "      <th>native-country_Philippines</th>\n",
       "      <th>native-country_Puerto-Rico</th>\n",
       "      <th>native-country_South</th>\n",
       "      <th>native-country_United-States</th>\n",
       "      <th>native-country_rare</th>\n",
       "    </tr>\n",
       "  </thead>\n",
       "  <tbody>\n",
       "    <tr>\n",
       "      <th>0</th>\n",
       "      <td>36</td>\n",
       "      <td>13</td>\n",
       "      <td>40</td>\n",
       "      <td>0</td>\n",
       "      <td>0</td>\n",
       "      <td>0</td>\n",
       "      <td>0</td>\n",
       "      <td>1</td>\n",
       "      <td>0</td>\n",
       "      <td>0</td>\n",
       "      <td>...</td>\n",
       "      <td>0</td>\n",
       "      <td>0</td>\n",
       "      <td>0</td>\n",
       "      <td>0</td>\n",
       "      <td>0</td>\n",
       "      <td>0</td>\n",
       "      <td>0</td>\n",
       "      <td>0</td>\n",
       "      <td>1</td>\n",
       "      <td>0</td>\n",
       "    </tr>\n",
       "    <tr>\n",
       "      <th>1</th>\n",
       "      <td>57</td>\n",
       "      <td>15</td>\n",
       "      <td>36</td>\n",
       "      <td>0</td>\n",
       "      <td>0</td>\n",
       "      <td>0</td>\n",
       "      <td>0</td>\n",
       "      <td>0</td>\n",
       "      <td>1</td>\n",
       "      <td>0</td>\n",
       "      <td>...</td>\n",
       "      <td>0</td>\n",
       "      <td>0</td>\n",
       "      <td>0</td>\n",
       "      <td>0</td>\n",
       "      <td>0</td>\n",
       "      <td>0</td>\n",
       "      <td>0</td>\n",
       "      <td>0</td>\n",
       "      <td>1</td>\n",
       "      <td>0</td>\n",
       "    </tr>\n",
       "    <tr>\n",
       "      <th>2</th>\n",
       "      <td>49</td>\n",
       "      <td>14</td>\n",
       "      <td>45</td>\n",
       "      <td>8</td>\n",
       "      <td>0</td>\n",
       "      <td>0</td>\n",
       "      <td>0</td>\n",
       "      <td>1</td>\n",
       "      <td>0</td>\n",
       "      <td>0</td>\n",
       "      <td>...</td>\n",
       "      <td>0</td>\n",
       "      <td>0</td>\n",
       "      <td>0</td>\n",
       "      <td>0</td>\n",
       "      <td>0</td>\n",
       "      <td>0</td>\n",
       "      <td>0</td>\n",
       "      <td>0</td>\n",
       "      <td>1</td>\n",
       "      <td>0</td>\n",
       "    </tr>\n",
       "    <tr>\n",
       "      <th>3</th>\n",
       "      <td>54</td>\n",
       "      <td>3</td>\n",
       "      <td>55</td>\n",
       "      <td>0</td>\n",
       "      <td>0</td>\n",
       "      <td>0</td>\n",
       "      <td>0</td>\n",
       "      <td>0</td>\n",
       "      <td>0</td>\n",
       "      <td>1</td>\n",
       "      <td>...</td>\n",
       "      <td>0</td>\n",
       "      <td>0</td>\n",
       "      <td>0</td>\n",
       "      <td>0</td>\n",
       "      <td>0</td>\n",
       "      <td>0</td>\n",
       "      <td>0</td>\n",
       "      <td>0</td>\n",
       "      <td>1</td>\n",
       "      <td>0</td>\n",
       "    </tr>\n",
       "    <tr>\n",
       "      <th>4</th>\n",
       "      <td>17</td>\n",
       "      <td>6</td>\n",
       "      <td>24</td>\n",
       "      <td>0</td>\n",
       "      <td>0</td>\n",
       "      <td>0</td>\n",
       "      <td>0</td>\n",
       "      <td>0</td>\n",
       "      <td>0</td>\n",
       "      <td>1</td>\n",
       "      <td>...</td>\n",
       "      <td>0</td>\n",
       "      <td>0</td>\n",
       "      <td>0</td>\n",
       "      <td>0</td>\n",
       "      <td>0</td>\n",
       "      <td>0</td>\n",
       "      <td>0</td>\n",
       "      <td>0</td>\n",
       "      <td>1</td>\n",
       "      <td>0</td>\n",
       "    </tr>\n",
       "  </tbody>\n",
       "</table>\n",
       "<p>5 rows × 54 columns</p>\n",
       "</div>"
      ],
      "text/plain": [
       "   age  educational-num  hours-per-week  capital-gain_log  capital-loss_log  \\\n",
       "0   36               13              40                 0                 0   \n",
       "1   57               15              36                 0                 0   \n",
       "2   49               14              45                 8                 0   \n",
       "3   54                3              55                 0                 0   \n",
       "4   17                6              24                 0                 0   \n",
       "\n",
       "   workclass_Federal-gov  workclass_Local-gov  workclass_Private  \\\n",
       "0                      0                    0                  1   \n",
       "1                      0                    0                  0   \n",
       "2                      0                    0                  1   \n",
       "3                      0                    0                  0   \n",
       "4                      0                    0                  0   \n",
       "\n",
       "   workclass_Self-emp-inc  workclass_Self-emp-not-inc  ...  \\\n",
       "0                       0                           0  ...   \n",
       "1                       1                           0  ...   \n",
       "2                       0                           0  ...   \n",
       "3                       0                           1  ...   \n",
       "4                       0                           1  ...   \n",
       "\n",
       "   native-country_Germany  native-country_India  native-country_Italy  \\\n",
       "0                       0                     0                     0   \n",
       "1                       0                     0                     0   \n",
       "2                       0                     0                     0   \n",
       "3                       0                     0                     0   \n",
       "4                       0                     0                     0   \n",
       "\n",
       "   native-country_Jamaica  native-country_Mexico  native-country_Philippines  \\\n",
       "0                       0                      0                           0   \n",
       "1                       0                      0                           0   \n",
       "2                       0                      0                           0   \n",
       "3                       0                      0                           0   \n",
       "4                       0                      0                           0   \n",
       "\n",
       "   native-country_Puerto-Rico  native-country_South  \\\n",
       "0                           0                     0   \n",
       "1                           0                     0   \n",
       "2                           0                     0   \n",
       "3                           0                     0   \n",
       "4                           0                     0   \n",
       "\n",
       "   native-country_United-States  native-country_rare  \n",
       "0                             1                    0  \n",
       "1                             1                    0  \n",
       "2                             1                    0  \n",
       "3                             1                    0  \n",
       "4                             1                    0  \n",
       "\n",
       "[5 rows x 54 columns]"
      ]
     },
     "execution_count": 52,
     "metadata": {},
     "output_type": "execute_result"
    }
   ],
   "source": [
    "X_test.head()"
   ]
  },
  {
   "cell_type": "code",
   "execution_count": 53,
   "metadata": {
    "id": "2zBafOKQBslg",
    "outputId": "94044ab1-fcca-455c-aae8-12b3f0d14936"
   },
   "outputs": [
    {
     "data": {
      "text/html": [
       "<div>\n",
       "<style scoped>\n",
       "    .dataframe tbody tr th:only-of-type {\n",
       "        vertical-align: middle;\n",
       "    }\n",
       "\n",
       "    .dataframe tbody tr th {\n",
       "        vertical-align: top;\n",
       "    }\n",
       "\n",
       "    .dataframe thead th {\n",
       "        text-align: right;\n",
       "    }\n",
       "</style>\n",
       "<table border=\"1\" class=\"dataframe\">\n",
       "  <thead>\n",
       "    <tr style=\"text-align: right;\">\n",
       "      <th></th>\n",
       "      <th>age</th>\n",
       "      <th>educational-num</th>\n",
       "      <th>hours-per-week</th>\n",
       "      <th>capital-gain_log</th>\n",
       "      <th>capital-loss_log</th>\n",
       "      <th>workclass_Federal-gov</th>\n",
       "      <th>workclass_Local-gov</th>\n",
       "      <th>workclass_Private</th>\n",
       "      <th>workclass_Self-emp-inc</th>\n",
       "      <th>workclass_Self-emp-not-inc</th>\n",
       "      <th>...</th>\n",
       "      <th>native-country_Germany</th>\n",
       "      <th>native-country_India</th>\n",
       "      <th>native-country_Italy</th>\n",
       "      <th>native-country_Jamaica</th>\n",
       "      <th>native-country_Mexico</th>\n",
       "      <th>native-country_Philippines</th>\n",
       "      <th>native-country_Puerto-Rico</th>\n",
       "      <th>native-country_South</th>\n",
       "      <th>native-country_United-States</th>\n",
       "      <th>native-country_rare</th>\n",
       "    </tr>\n",
       "  </thead>\n",
       "  <tbody>\n",
       "    <tr>\n",
       "      <th>0</th>\n",
       "      <td>20</td>\n",
       "      <td>10</td>\n",
       "      <td>40</td>\n",
       "      <td>0</td>\n",
       "      <td>0</td>\n",
       "      <td>0</td>\n",
       "      <td>0</td>\n",
       "      <td>1</td>\n",
       "      <td>0</td>\n",
       "      <td>0</td>\n",
       "      <td>...</td>\n",
       "      <td>0</td>\n",
       "      <td>0</td>\n",
       "      <td>0</td>\n",
       "      <td>0</td>\n",
       "      <td>0</td>\n",
       "      <td>0</td>\n",
       "      <td>0</td>\n",
       "      <td>0</td>\n",
       "      <td>1</td>\n",
       "      <td>0</td>\n",
       "    </tr>\n",
       "    <tr>\n",
       "      <th>1</th>\n",
       "      <td>42</td>\n",
       "      <td>11</td>\n",
       "      <td>52</td>\n",
       "      <td>0</td>\n",
       "      <td>0</td>\n",
       "      <td>0</td>\n",
       "      <td>0</td>\n",
       "      <td>1</td>\n",
       "      <td>0</td>\n",
       "      <td>0</td>\n",
       "      <td>...</td>\n",
       "      <td>0</td>\n",
       "      <td>0</td>\n",
       "      <td>0</td>\n",
       "      <td>0</td>\n",
       "      <td>0</td>\n",
       "      <td>0</td>\n",
       "      <td>0</td>\n",
       "      <td>0</td>\n",
       "      <td>1</td>\n",
       "      <td>0</td>\n",
       "    </tr>\n",
       "    <tr>\n",
       "      <th>2</th>\n",
       "      <td>35</td>\n",
       "      <td>10</td>\n",
       "      <td>40</td>\n",
       "      <td>0</td>\n",
       "      <td>0</td>\n",
       "      <td>0</td>\n",
       "      <td>0</td>\n",
       "      <td>0</td>\n",
       "      <td>0</td>\n",
       "      <td>0</td>\n",
       "      <td>...</td>\n",
       "      <td>0</td>\n",
       "      <td>0</td>\n",
       "      <td>0</td>\n",
       "      <td>0</td>\n",
       "      <td>0</td>\n",
       "      <td>0</td>\n",
       "      <td>0</td>\n",
       "      <td>0</td>\n",
       "      <td>1</td>\n",
       "      <td>0</td>\n",
       "    </tr>\n",
       "    <tr>\n",
       "      <th>3</th>\n",
       "      <td>39</td>\n",
       "      <td>9</td>\n",
       "      <td>16</td>\n",
       "      <td>0</td>\n",
       "      <td>0</td>\n",
       "      <td>0</td>\n",
       "      <td>0</td>\n",
       "      <td>1</td>\n",
       "      <td>0</td>\n",
       "      <td>0</td>\n",
       "      <td>...</td>\n",
       "      <td>0</td>\n",
       "      <td>0</td>\n",
       "      <td>0</td>\n",
       "      <td>0</td>\n",
       "      <td>0</td>\n",
       "      <td>0</td>\n",
       "      <td>0</td>\n",
       "      <td>0</td>\n",
       "      <td>1</td>\n",
       "      <td>0</td>\n",
       "    </tr>\n",
       "    <tr>\n",
       "      <th>4</th>\n",
       "      <td>24</td>\n",
       "      <td>13</td>\n",
       "      <td>40</td>\n",
       "      <td>0</td>\n",
       "      <td>0</td>\n",
       "      <td>0</td>\n",
       "      <td>0</td>\n",
       "      <td>1</td>\n",
       "      <td>0</td>\n",
       "      <td>0</td>\n",
       "      <td>...</td>\n",
       "      <td>0</td>\n",
       "      <td>0</td>\n",
       "      <td>0</td>\n",
       "      <td>0</td>\n",
       "      <td>0</td>\n",
       "      <td>0</td>\n",
       "      <td>0</td>\n",
       "      <td>0</td>\n",
       "      <td>1</td>\n",
       "      <td>0</td>\n",
       "    </tr>\n",
       "  </tbody>\n",
       "</table>\n",
       "<p>5 rows × 54 columns</p>\n",
       "</div>"
      ],
      "text/plain": [
       "   age  educational-num  hours-per-week  capital-gain_log  capital-loss_log  \\\n",
       "0   20               10              40                 0                 0   \n",
       "1   42               11              52                 0                 0   \n",
       "2   35               10              40                 0                 0   \n",
       "3   39                9              16                 0                 0   \n",
       "4   24               13              40                 0                 0   \n",
       "\n",
       "   workclass_Federal-gov  workclass_Local-gov  workclass_Private  \\\n",
       "0                      0                    0                  1   \n",
       "1                      0                    0                  1   \n",
       "2                      0                    0                  0   \n",
       "3                      0                    0                  1   \n",
       "4                      0                    0                  1   \n",
       "\n",
       "   workclass_Self-emp-inc  workclass_Self-emp-not-inc  ...  \\\n",
       "0                       0                           0  ...   \n",
       "1                       0                           0  ...   \n",
       "2                       0                           0  ...   \n",
       "3                       0                           0  ...   \n",
       "4                       0                           0  ...   \n",
       "\n",
       "   native-country_Germany  native-country_India  native-country_Italy  \\\n",
       "0                       0                     0                     0   \n",
       "1                       0                     0                     0   \n",
       "2                       0                     0                     0   \n",
       "3                       0                     0                     0   \n",
       "4                       0                     0                     0   \n",
       "\n",
       "   native-country_Jamaica  native-country_Mexico  native-country_Philippines  \\\n",
       "0                       0                      0                           0   \n",
       "1                       0                      0                           0   \n",
       "2                       0                      0                           0   \n",
       "3                       0                      0                           0   \n",
       "4                       0                      0                           0   \n",
       "\n",
       "   native-country_Puerto-Rico  native-country_South  \\\n",
       "0                           0                     0   \n",
       "1                           0                     0   \n",
       "2                           0                     0   \n",
       "3                           0                     0   \n",
       "4                           0                     0   \n",
       "\n",
       "   native-country_United-States  native-country_rare  \n",
       "0                             1                    0  \n",
       "1                             1                    0  \n",
       "2                             1                    0  \n",
       "3                             1                    0  \n",
       "4                             1                    0  \n",
       "\n",
       "[5 rows x 54 columns]"
      ]
     },
     "execution_count": 53,
     "metadata": {},
     "output_type": "execute_result"
    }
   ],
   "source": [
    "X_train.head()"
   ]
  },
  {
   "cell_type": "markdown",
   "metadata": {
    "id": "Wrh6X18XBslh"
   },
   "source": [
    "----\n",
    "## Evaluating Model Performance\n",
    "In this section, we will investigate 3 different algorithms, and determine which is best at modeling the data."
   ]
  },
  {
   "cell_type": "markdown",
   "metadata": {
    "id": "9irUpJ5QBslh"
   },
   "source": [
    "\n",
    "\n",
    "### Note: Recap of Accuracy, Precision, Recall\n",
    "\n",
    "** Accuracy ** measures how often the classifier makes the correct prediction. It’s the ratio of the number of correct predictions to the total number of predictions (the number of test data points).\n",
    "\n",
    "`[(True Positives + True Negatives)/(True Positives + False Positives)]`\n",
    "\n",
    "** Precision ** tells us what proportion of messages we classified as spam, actually were spam.\n",
    "It is a ratio of true positives(words classified as spam, and which are actually spam) to all positives(all words classified as spam, irrespective of whether that was the correct classificatio), in other words it is the ratio of\n",
    "\n",
    "`[True Positives/(True Positives + False Positives)]`\n",
    "\n",
    "** Recall(sensitivity) ** tells us what proportion of messages that actually were spam were classified by us as spam.\n",
    "It is a ratio of true positives(words classified as spam, and which are actually spam) to all the words that were actually spam, in other words it is the ratio of\n",
    "\n",
    "`[True Positives/(True Positives + False Negatives)]`\n",
    "\n",
    "For classification problems that are skewed in their classification distributions like in our case, for example if we had a 100 text messages and only 2 were spam and the rest 98 weren't, accuracy by itself is not a very good metric. We could classify 90 messages as not spam(including the 2 that were spam but we classify them as not spam, hence they would be false negatives) and 10 as spam(all 10 false positives) and still get a reasonably good accuracy score. For such cases, precision and recall come in very handy. These two metrics can be combined to get the F1 score, which is weighted average(harmonic mean) of the precision and recall scores. This score can range from 0 to 1, with 1 being the best possible F1 score (we take the harmonic mean as we are dealing with ratios)."
   ]
  },
  {
   "cell_type": "markdown",
   "metadata": {
    "id": "D0Ub1PB_Bsli"
   },
   "source": [
    "###  Supervised Learning Models\n",
    "**The following are some of the supervised learning models that are currently available in** [`scikit-learn`](http://scikit-learn.org/stable/supervised_learning.html) **that you may choose from:**\n",
    "\n",
    "- Decision Trees\n",
    "- Support Vector Machines (SVM)\n",
    "- Logistic Regression\n",
    "- Ensemble Methods (Bagging, AdaBoost, Random Forest, Gradient Boosting)"
   ]
  },
  {
   "cell_type": "markdown",
   "metadata": {
    "id": "QSjwFHolBsli"
   },
   "source": [
    "### Implementation - Creating a Training and Predicting Pipeline\n",
    "To properly evaluate the performance of each model you've chosen, it's important that you create a training and predicting pipeline that allows you to quickly and effectively train models using the training data and perform predictions on the testing data."
   ]
  },
  {
   "cell_type": "code",
   "execution_count": 54,
   "metadata": {
    "id": "00CyMkC7Bsli"
   },
   "outputs": [],
   "source": [
    "def train_predict(classifier): \n",
    "    '''\n",
    "    inputs:\n",
    "       - classifier: the learning algorithm to be trained and predicted on\n",
    "    '''\n",
    "    \n",
    "    results = {}\n",
    "    \n",
    "    # Fit the classifier to the training data and Calculate the time\n",
    "    start_train = time()\n",
    "    classifier = classifier.fit(X_train, y_train_scaled)\n",
    "    end_train = time()\n",
    "    results['train_time'] = round((end_train-start_train), 2)\n",
    "\n",
    "    # Predict the training/testing labels and Calculate the time\n",
    "    start_test = time()\n",
    "    y_pred_train = classifier.predict(X_train)\n",
    "    y_pred_test = classifier.predict(X_test)\n",
    "    end_test = time()   \n",
    "    results['pred_time'] = round((end_test-start_test), 2)\n",
    "            \n",
    "    # Model evaluation (training/testing data) using accuracy\n",
    "    results['acc_train'] = round(accuracy_score(y_train_scaled, y_pred_train), 2)\n",
    "    results['acc_test'] = round(accuracy_score(y_test_scaled, y_pred_test), 2)\n",
    "    \n",
    "    # Model evaluation (training/testing data) using f1-score\n",
    "    results['f1_train'] = round(f1_score(y_train_scaled, y_pred_train), 2)\n",
    "    results['f1_test'] = round(f1_score(y_test_scaled, y_pred_test), 2)\n",
    "    \n",
    "    # Display classification_report\n",
    "    report = classification_report(y_test_scaled, y_pred_test)\n",
    "       \n",
    "    \n",
    "    # Return the results\n",
    "    return results, report"
   ]
  },
  {
   "cell_type": "markdown",
   "metadata": {
    "id": "7cMw4R9BBslj"
   },
   "source": [
    "### Implementation: Initial Model Evaluation"
   ]
  },
  {
   "cell_type": "code",
   "execution_count": 55,
   "metadata": {
    "id": "wf7LSlnrBslj",
    "outputId": "2fbfb181-af1d-4852-d71d-65ff72e32983"
   },
   "outputs": [
    {
     "name": "stderr",
     "output_type": "stream",
     "text": [
      "C:\\Users\\NourhanElaraby\\anaconda3\\lib\\site-packages\\sklearn\\linear_model\\_logistic.py:765: ConvergenceWarning: lbfgs failed to converge (status=1):\n",
      "STOP: TOTAL NO. of ITERATIONS REACHED LIMIT.\n",
      "\n",
      "Increase the number of iterations (max_iter) or scale the data as shown in:\n",
      "    https://scikit-learn.org/stable/modules/preprocessing.html\n",
      "Please also refer to the documentation for alternative solver options:\n",
      "    https://scikit-learn.org/stable/modules/linear_model.html#logistic-regression\n",
      "  extra_warning_msg=_LOGISTIC_SOLVER_CONVERGENCE_MSG)\n",
      "C:\\Users\\NourhanElaraby\\anaconda3\\lib\\site-packages\\sklearn\\linear_model\\_logistic.py:765: ConvergenceWarning: lbfgs failed to converge (status=1):\n",
      "STOP: TOTAL NO. of ITERATIONS REACHED LIMIT.\n",
      "\n",
      "Increase the number of iterations (max_iter) or scale the data as shown in:\n",
      "    https://scikit-learn.org/stable/modules/preprocessing.html\n",
      "Please also refer to the documentation for alternative solver options:\n",
      "    https://scikit-learn.org/stable/modules/linear_model.html#logistic-regression\n",
      "  extra_warning_msg=_LOGISTIC_SOLVER_CONVERGENCE_MSG)\n"
     ]
    }
   ],
   "source": [
    "# Initialize the classifiers\n",
    "clf_DT = DecisionTreeClassifier(random_state=0)\n",
    "clf_LR = LogisticRegression(random_state=0)\n",
    "clf_SVM = SVC(random_state=0)\n",
    "clf_rf = RandomForestClassifier(n_estimators=300, class_weight='balanced', random_state=0)\n",
    "clf_gbc = GradientBoostingClassifier(n_estimators=300, max_depth=5,random_state=0)\n",
    "clf_adbc = AdaBoostClassifier(n_estimators=500, random_state=0)\n",
    "clf_list = [clf_DT, clf_LR, clf_SVM,clf_rf,clf_gbc,clf_adbc]\n",
    "\n",
    "# Compare evaluation of the different classifiers\n",
    "clf_evaluation = {}\n",
    "clf_report = {}\n",
    "\n",
    "for clf in clf_list:\n",
    "    clf_evaluation[clf.__class__.__name__] = train_predict(clf)[0]\n",
    "    clf_report[clf.__class__.__name__] = train_predict(clf)[1]"
   ]
  },
  {
   "cell_type": "code",
   "execution_count": 56,
   "metadata": {
    "id": "ZRGXd4PQBslj",
    "outputId": "6108d6a4-9fbe-4fde-dfa8-2adc32ecbe97"
   },
   "outputs": [
    {
     "data": {
      "text/plain": [
       "{'DecisionTreeClassifier': {'train_time': 0.23,\n",
       "  'pred_time': 0.02,\n",
       "  'acc_train': 0.97,\n",
       "  'acc_test': 0.81,\n",
       "  'f1_train': 0.94,\n",
       "  'f1_test': 0.59},\n",
       " 'LogisticRegression': {'train_time': 0.53,\n",
       "  'pred_time': 0.02,\n",
       "  'acc_train': 0.84,\n",
       "  'acc_test': 0.84,\n",
       "  'f1_train': 0.64,\n",
       "  'f1_test': 0.64},\n",
       " 'SVC': {'train_time': 51.1,\n",
       "  'pred_time': 81.82,\n",
       "  'acc_train': 0.84,\n",
       "  'acc_test': 0.84,\n",
       "  'f1_train': 0.6,\n",
       "  'f1_test': 0.59},\n",
       " 'RandomForestClassifier': {'train_time': 10.62,\n",
       "  'pred_time': 2.89,\n",
       "  'acc_train': 0.97,\n",
       "  'acc_test': 0.83,\n",
       "  'f1_train': 0.94,\n",
       "  'f1_test': 0.63},\n",
       " 'GradientBoostingClassifier': {'train_time': 20.26,\n",
       "  'pred_time': 0.25,\n",
       "  'acc_train': 0.88,\n",
       "  'acc_test': 0.86,\n",
       "  'f1_train': 0.73,\n",
       "  'f1_test': 0.68},\n",
       " 'AdaBoostClassifier': {'train_time': 15.2,\n",
       "  'pred_time': 5.08,\n",
       "  'acc_train': 0.86,\n",
       "  'acc_test': 0.86,\n",
       "  'f1_train': 0.67,\n",
       "  'f1_test': 0.67}}"
      ]
     },
     "execution_count": 56,
     "metadata": {},
     "output_type": "execute_result"
    }
   ],
   "source": [
    "clf_evaluation"
   ]
  },
  {
   "cell_type": "code",
   "execution_count": 57,
   "metadata": {},
   "outputs": [
    {
     "name": "stdout",
     "output_type": "stream",
     "text": [
      "DecisionTreeClassifier\n",
      "              precision    recall  f1-score   support\n",
      "\n",
      "           0       0.87      0.89      0.88      7420\n",
      "           1       0.61      0.57      0.59      2349\n",
      "\n",
      "    accuracy                           0.81      9769\n",
      "   macro avg       0.74      0.73      0.73      9769\n",
      "weighted avg       0.80      0.81      0.81      9769\n",
      "\n",
      "---------------------------------------------------------\n",
      "LogisticRegression\n",
      "              precision    recall  f1-score   support\n",
      "\n",
      "           0       0.87      0.92      0.90      7420\n",
      "           1       0.71      0.58      0.64      2349\n",
      "\n",
      "    accuracy                           0.84      9769\n",
      "   macro avg       0.79      0.75      0.77      9769\n",
      "weighted avg       0.83      0.84      0.84      9769\n",
      "\n",
      "---------------------------------------------------------\n",
      "SVC\n",
      "              precision    recall  f1-score   support\n",
      "\n",
      "           0       0.85      0.95      0.90      7420\n",
      "           1       0.75      0.48      0.59      2349\n",
      "\n",
      "    accuracy                           0.84      9769\n",
      "   macro avg       0.80      0.71      0.74      9769\n",
      "weighted avg       0.83      0.84      0.82      9769\n",
      "\n",
      "---------------------------------------------------------\n",
      "RandomForestClassifier\n",
      "              precision    recall  f1-score   support\n",
      "\n",
      "           0       0.88      0.89      0.89      7420\n",
      "           1       0.65      0.61      0.63      2349\n",
      "\n",
      "    accuracy                           0.83      9769\n",
      "   macro avg       0.76      0.75      0.76      9769\n",
      "weighted avg       0.82      0.83      0.82      9769\n",
      "\n",
      "---------------------------------------------------------\n",
      "GradientBoostingClassifier\n",
      "              precision    recall  f1-score   support\n",
      "\n",
      "           0       0.89      0.93      0.91      7420\n",
      "           1       0.73      0.63      0.68      2349\n",
      "\n",
      "    accuracy                           0.86      9769\n",
      "   macro avg       0.81      0.78      0.79      9769\n",
      "weighted avg       0.85      0.86      0.85      9769\n",
      "\n",
      "---------------------------------------------------------\n",
      "AdaBoostClassifier\n",
      "              precision    recall  f1-score   support\n",
      "\n",
      "           0       0.88      0.93      0.91      7420\n",
      "           1       0.74      0.62      0.67      2349\n",
      "\n",
      "    accuracy                           0.86      9769\n",
      "   macro avg       0.81      0.77      0.79      9769\n",
      "weighted avg       0.85      0.86      0.85      9769\n",
      "\n",
      "---------------------------------------------------------\n"
     ]
    }
   ],
   "source": [
    "for key in clf_report:\n",
    "    print(key)\n",
    "    print(clf_report[key])\n",
    "    print('---------------------------------------------------------')"
   ]
  },
  {
   "cell_type": "code",
   "execution_count": 58,
   "metadata": {},
   "outputs": [
    {
     "data": {
      "text/html": [
       "<div>\n",
       "<style scoped>\n",
       "    .dataframe tbody tr th:only-of-type {\n",
       "        vertical-align: middle;\n",
       "    }\n",
       "\n",
       "    .dataframe tbody tr th {\n",
       "        vertical-align: top;\n",
       "    }\n",
       "\n",
       "    .dataframe thead th {\n",
       "        text-align: right;\n",
       "    }\n",
       "</style>\n",
       "<table border=\"1\" class=\"dataframe\">\n",
       "  <thead>\n",
       "    <tr style=\"text-align: right;\">\n",
       "      <th></th>\n",
       "      <th>DecisionTreeClassifier</th>\n",
       "      <th>LogisticRegression</th>\n",
       "      <th>SVC</th>\n",
       "      <th>RandomForestClassifier</th>\n",
       "      <th>GradientBoostingClassifier</th>\n",
       "      <th>AdaBoostClassifier</th>\n",
       "    </tr>\n",
       "  </thead>\n",
       "  <tbody>\n",
       "    <tr>\n",
       "      <th>train_time</th>\n",
       "      <td>0.23</td>\n",
       "      <td>0.53</td>\n",
       "      <td>51.10</td>\n",
       "      <td>10.62</td>\n",
       "      <td>20.26</td>\n",
       "      <td>15.20</td>\n",
       "    </tr>\n",
       "    <tr>\n",
       "      <th>pred_time</th>\n",
       "      <td>0.02</td>\n",
       "      <td>0.02</td>\n",
       "      <td>81.82</td>\n",
       "      <td>2.89</td>\n",
       "      <td>0.25</td>\n",
       "      <td>5.08</td>\n",
       "    </tr>\n",
       "    <tr>\n",
       "      <th>acc_train</th>\n",
       "      <td>0.97</td>\n",
       "      <td>0.84</td>\n",
       "      <td>0.84</td>\n",
       "      <td>0.97</td>\n",
       "      <td>0.88</td>\n",
       "      <td>0.86</td>\n",
       "    </tr>\n",
       "    <tr>\n",
       "      <th>acc_test</th>\n",
       "      <td>0.81</td>\n",
       "      <td>0.84</td>\n",
       "      <td>0.84</td>\n",
       "      <td>0.83</td>\n",
       "      <td>0.86</td>\n",
       "      <td>0.86</td>\n",
       "    </tr>\n",
       "    <tr>\n",
       "      <th>f1_train</th>\n",
       "      <td>0.94</td>\n",
       "      <td>0.64</td>\n",
       "      <td>0.60</td>\n",
       "      <td>0.94</td>\n",
       "      <td>0.73</td>\n",
       "      <td>0.67</td>\n",
       "    </tr>\n",
       "    <tr>\n",
       "      <th>f1_test</th>\n",
       "      <td>0.59</td>\n",
       "      <td>0.64</td>\n",
       "      <td>0.59</td>\n",
       "      <td>0.63</td>\n",
       "      <td>0.68</td>\n",
       "      <td>0.67</td>\n",
       "    </tr>\n",
       "  </tbody>\n",
       "</table>\n",
       "</div>"
      ],
      "text/plain": [
       "            DecisionTreeClassifier  LogisticRegression    SVC  \\\n",
       "train_time                    0.23                0.53  51.10   \n",
       "pred_time                     0.02                0.02  81.82   \n",
       "acc_train                     0.97                0.84   0.84   \n",
       "acc_test                      0.81                0.84   0.84   \n",
       "f1_train                      0.94                0.64   0.60   \n",
       "f1_test                       0.59                0.64   0.59   \n",
       "\n",
       "            RandomForestClassifier  GradientBoostingClassifier  \\\n",
       "train_time                   10.62                       20.26   \n",
       "pred_time                     2.89                        0.25   \n",
       "acc_train                     0.97                        0.88   \n",
       "acc_test                      0.83                        0.86   \n",
       "f1_train                      0.94                        0.73   \n",
       "f1_test                       0.63                        0.68   \n",
       "\n",
       "            AdaBoostClassifier  \n",
       "train_time               15.20  \n",
       "pred_time                 5.08  \n",
       "acc_train                 0.86  \n",
       "acc_test                  0.86  \n",
       "f1_train                  0.67  \n",
       "f1_test                   0.67  "
      ]
     },
     "execution_count": 58,
     "metadata": {},
     "output_type": "execute_result"
    }
   ],
   "source": [
    "results = pd.DataFrame.from_dict(clf_evaluation)\n",
    "results"
   ]
  }
 ],
 "metadata": {
  "colab": {
   "collapsed_sections": [
    "MwDJfMSgBsla",
    "hzBFihT5Bslc",
    "YqMy9eb7Bsld",
    "9irUpJ5QBslh",
    "D0Ub1PB_Bsli",
    "QSjwFHolBsli",
    "7cMw4R9BBslj",
    "P42rGncCBslt",
    "B9smIN8mBslw",
    "ppYgZDKqBslx",
    "9Kvw2YZsBslx",
    "SrZ1d9gABsl1"
   ],
   "name": "Finding_Donors_Charity.ipynb",
   "provenance": []
  },
  "kernelspec": {
   "display_name": "Python 3",
   "language": "python",
   "name": "python3"
  },
  "language_info": {
   "codemirror_mode": {
    "name": "ipython",
    "version": 3
   },
   "file_extension": ".py",
   "mimetype": "text/x-python",
   "name": "python",
   "nbconvert_exporter": "python",
   "pygments_lexer": "ipython3",
   "version": "3.7.9"
  },
  "toc": {
   "base_numbering": 1,
   "nav_menu": {},
   "number_sections": true,
   "sideBar": true,
   "skip_h1_title": false,
   "title_cell": "Table of Contents",
   "title_sidebar": "Contents",
   "toc_cell": false,
   "toc_position": {},
   "toc_section_display": true,
   "toc_window_display": true
  }
 },
 "nbformat": 4,
 "nbformat_minor": 1
}
