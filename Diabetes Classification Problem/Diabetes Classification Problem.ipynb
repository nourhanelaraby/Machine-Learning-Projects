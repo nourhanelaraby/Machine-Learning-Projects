{
 "cells": [
  {
   "cell_type": "markdown",
   "id": "870ecdb0",
   "metadata": {},
   "source": [
    "# Objective\n",
    "We will try to build a machine learning model to accurately predict whether or not the patients in the dataset have diabetes or not? using following models:\n",
    "\n",
    "1. logistic regression <br>\n",
    "2. svc   <br>\n",
    "3. KNN   <br>\n",
    "\n",
    "# Data\n",
    "The datasets consists of several medical predictor variables and one target variable, Outcome. Predictor variables includes the number of pregnancies the patient has had, their BMI, insulin level, age, and so on.\n",
    "\n",
    "* Pregnancies: Number of times pregnant\n",
    "\n",
    "* Glucose: Plasma glucose concentration a 2 hours in an oral glucose tolerance test\n",
    " \n",
    "* BloodPressure: Diastolic blood pressure (mm Hg)\n",
    "\n",
    "* SkinThickness: Triceps skin fold thickness (mm)\n",
    " \n",
    "* Insulin: 2-Hour serum insulin (mu U/ml)\n",
    " \n",
    "* BMI: Body mass index (weight in kg/(height in m)^2)\n",
    " \n",
    "* DiabetesPedigreeFunction: Diabetes pedigree function\n",
    " \n",
    "* Age: Age (years)\n",
    "\n",
    "* Outcome: Class variable (0 or 1)"
   ]
  },
  {
   "cell_type": "markdown",
   "id": "9abe4fb1",
   "metadata": {},
   "source": [
    "# Importing Libraries"
   ]
  },
  {
   "cell_type": "code",
   "execution_count": 1,
   "id": "cf16c090",
   "metadata": {},
   "outputs": [],
   "source": [
    "import pandas as pd\n",
    "import matplotlib.pyplot as plt\n",
    "import seaborn as sns\n",
    "import numpy as np\n",
    "from time import time\n",
    "from scipy import stats\n",
    "from sklearn.preprocessing import StandardScaler,OneHotEncoder,QuantileTransformer, quantile_transform,RobustScaler\n",
    "from sklearn.metrics import mean_squared_error,r2_score,accuracy_score, recall_score, precision_score, f1_score, classification_report\n",
    "\n",
    "\n",
    "from sklearn.linear_model import LogisticRegression\n",
    "from sklearn.svm import SVC\n",
    "from sklearn.neighbors import KNeighborsClassifier\n",
    "from sklearn.tree import DecisionTreeClassifier\n",
    "\n",
    "\n",
    "from sklearn.model_selection import train_test_split\n",
    "from sklearn.compose import ColumnTransformer,TransformedTargetRegressor\n",
    "#for upsampling and downsampling\n",
    "from imblearn.under_sampling import NearMiss\n",
    "from imblearn.over_sampling import SMOTE\n",
    "\n",
    "from sklearn.impute import KNNImputer\n",
    "from sklearn.impute import SimpleImputer\n",
    "from sklearn.compose import ColumnTransformer\n",
    "from sklearn.pipeline import Pipeline\n"
   ]
  },
  {
   "cell_type": "code",
   "execution_count": 2,
   "id": "02e462c5",
   "metadata": {},
   "outputs": [],
   "source": [
    "filepath=\"data/diabetes.csv\"\n",
    "df=pd.read_csv(filepath)"
   ]
  },
  {
   "cell_type": "code",
   "execution_count": 3,
   "id": "8e2cffd9",
   "metadata": {},
   "outputs": [
    {
     "name": "stdout",
     "output_type": "stream",
     "text": [
      "the data's shape is  (768, 9)\n"
     ]
    }
   ],
   "source": [
    "print(\"the data's shape is \",df.shape)"
   ]
  },
  {
   "cell_type": "code",
   "execution_count": 4,
   "id": "3d7b99b6",
   "metadata": {},
   "outputs": [
    {
     "name": "stdout",
     "output_type": "stream",
     "text": [
      "<class 'pandas.core.frame.DataFrame'>\n",
      "RangeIndex: 768 entries, 0 to 767\n",
      "Data columns (total 9 columns):\n",
      " #   Column                    Non-Null Count  Dtype  \n",
      "---  ------                    --------------  -----  \n",
      " 0   Pregnancies               768 non-null    int64  \n",
      " 1   Glucose                   768 non-null    int64  \n",
      " 2   BloodPressure             768 non-null    int64  \n",
      " 3   SkinThickness             768 non-null    int64  \n",
      " 4   Insulin                   768 non-null    int64  \n",
      " 5   BMI                       768 non-null    float64\n",
      " 6   DiabetesPedigreeFunction  768 non-null    float64\n",
      " 7   Age                       768 non-null    int64  \n",
      " 8   Outcome                   768 non-null    int64  \n",
      "dtypes: float64(2), int64(7)\n",
      "memory usage: 54.1 KB\n"
     ]
    }
   ],
   "source": [
    "df.info()"
   ]
  },
  {
   "cell_type": "code",
   "execution_count": 5,
   "id": "985bc000",
   "metadata": {},
   "outputs": [
    {
     "data": {
      "text/html": [
       "<div>\n",
       "<style scoped>\n",
       "    .dataframe tbody tr th:only-of-type {\n",
       "        vertical-align: middle;\n",
       "    }\n",
       "\n",
       "    .dataframe tbody tr th {\n",
       "        vertical-align: top;\n",
       "    }\n",
       "\n",
       "    .dataframe thead th {\n",
       "        text-align: right;\n",
       "    }\n",
       "</style>\n",
       "<table border=\"1\" class=\"dataframe\">\n",
       "  <thead>\n",
       "    <tr style=\"text-align: right;\">\n",
       "      <th></th>\n",
       "      <th>count</th>\n",
       "      <th>mean</th>\n",
       "      <th>std</th>\n",
       "      <th>min</th>\n",
       "      <th>25%</th>\n",
       "      <th>50%</th>\n",
       "      <th>75%</th>\n",
       "      <th>max</th>\n",
       "    </tr>\n",
       "  </thead>\n",
       "  <tbody>\n",
       "    <tr>\n",
       "      <th>Pregnancies</th>\n",
       "      <td>768.0</td>\n",
       "      <td>3.845052</td>\n",
       "      <td>3.369578</td>\n",
       "      <td>0.000</td>\n",
       "      <td>1.00000</td>\n",
       "      <td>3.0000</td>\n",
       "      <td>6.00000</td>\n",
       "      <td>17.00</td>\n",
       "    </tr>\n",
       "    <tr>\n",
       "      <th>Glucose</th>\n",
       "      <td>768.0</td>\n",
       "      <td>120.894531</td>\n",
       "      <td>31.972618</td>\n",
       "      <td>0.000</td>\n",
       "      <td>99.00000</td>\n",
       "      <td>117.0000</td>\n",
       "      <td>140.25000</td>\n",
       "      <td>199.00</td>\n",
       "    </tr>\n",
       "    <tr>\n",
       "      <th>BloodPressure</th>\n",
       "      <td>768.0</td>\n",
       "      <td>69.105469</td>\n",
       "      <td>19.355807</td>\n",
       "      <td>0.000</td>\n",
       "      <td>62.00000</td>\n",
       "      <td>72.0000</td>\n",
       "      <td>80.00000</td>\n",
       "      <td>122.00</td>\n",
       "    </tr>\n",
       "    <tr>\n",
       "      <th>SkinThickness</th>\n",
       "      <td>768.0</td>\n",
       "      <td>20.536458</td>\n",
       "      <td>15.952218</td>\n",
       "      <td>0.000</td>\n",
       "      <td>0.00000</td>\n",
       "      <td>23.0000</td>\n",
       "      <td>32.00000</td>\n",
       "      <td>99.00</td>\n",
       "    </tr>\n",
       "    <tr>\n",
       "      <th>Insulin</th>\n",
       "      <td>768.0</td>\n",
       "      <td>79.799479</td>\n",
       "      <td>115.244002</td>\n",
       "      <td>0.000</td>\n",
       "      <td>0.00000</td>\n",
       "      <td>30.5000</td>\n",
       "      <td>127.25000</td>\n",
       "      <td>846.00</td>\n",
       "    </tr>\n",
       "    <tr>\n",
       "      <th>BMI</th>\n",
       "      <td>768.0</td>\n",
       "      <td>31.992578</td>\n",
       "      <td>7.884160</td>\n",
       "      <td>0.000</td>\n",
       "      <td>27.30000</td>\n",
       "      <td>32.0000</td>\n",
       "      <td>36.60000</td>\n",
       "      <td>67.10</td>\n",
       "    </tr>\n",
       "    <tr>\n",
       "      <th>DiabetesPedigreeFunction</th>\n",
       "      <td>768.0</td>\n",
       "      <td>0.471876</td>\n",
       "      <td>0.331329</td>\n",
       "      <td>0.078</td>\n",
       "      <td>0.24375</td>\n",
       "      <td>0.3725</td>\n",
       "      <td>0.62625</td>\n",
       "      <td>2.42</td>\n",
       "    </tr>\n",
       "    <tr>\n",
       "      <th>Age</th>\n",
       "      <td>768.0</td>\n",
       "      <td>33.240885</td>\n",
       "      <td>11.760232</td>\n",
       "      <td>21.000</td>\n",
       "      <td>24.00000</td>\n",
       "      <td>29.0000</td>\n",
       "      <td>41.00000</td>\n",
       "      <td>81.00</td>\n",
       "    </tr>\n",
       "    <tr>\n",
       "      <th>Outcome</th>\n",
       "      <td>768.0</td>\n",
       "      <td>0.348958</td>\n",
       "      <td>0.476951</td>\n",
       "      <td>0.000</td>\n",
       "      <td>0.00000</td>\n",
       "      <td>0.0000</td>\n",
       "      <td>1.00000</td>\n",
       "      <td>1.00</td>\n",
       "    </tr>\n",
       "  </tbody>\n",
       "</table>\n",
       "</div>"
      ],
      "text/plain": [
       "                          count        mean         std     min       25%  \\\n",
       "Pregnancies               768.0    3.845052    3.369578   0.000   1.00000   \n",
       "Glucose                   768.0  120.894531   31.972618   0.000  99.00000   \n",
       "BloodPressure             768.0   69.105469   19.355807   0.000  62.00000   \n",
       "SkinThickness             768.0   20.536458   15.952218   0.000   0.00000   \n",
       "Insulin                   768.0   79.799479  115.244002   0.000   0.00000   \n",
       "BMI                       768.0   31.992578    7.884160   0.000  27.30000   \n",
       "DiabetesPedigreeFunction  768.0    0.471876    0.331329   0.078   0.24375   \n",
       "Age                       768.0   33.240885   11.760232  21.000  24.00000   \n",
       "Outcome                   768.0    0.348958    0.476951   0.000   0.00000   \n",
       "\n",
       "                               50%        75%     max  \n",
       "Pregnancies                 3.0000    6.00000   17.00  \n",
       "Glucose                   117.0000  140.25000  199.00  \n",
       "BloodPressure              72.0000   80.00000  122.00  \n",
       "SkinThickness              23.0000   32.00000   99.00  \n",
       "Insulin                    30.5000  127.25000  846.00  \n",
       "BMI                        32.0000   36.60000   67.10  \n",
       "DiabetesPedigreeFunction    0.3725    0.62625    2.42  \n",
       "Age                        29.0000   41.00000   81.00  \n",
       "Outcome                     0.0000    1.00000    1.00  "
      ]
     },
     "execution_count": 5,
     "metadata": {},
     "output_type": "execute_result"
    }
   ],
   "source": [
    "df.describe().T"
   ]
  },
  {
   "cell_type": "code",
   "execution_count": 6,
   "id": "6abbf229",
   "metadata": {},
   "outputs": [
    {
     "data": {
      "text/plain": [
       "Pregnancies                   int64\n",
       "Glucose                       int64\n",
       "BloodPressure                 int64\n",
       "SkinThickness                 int64\n",
       "Insulin                       int64\n",
       "BMI                         float64\n",
       "DiabetesPedigreeFunction    float64\n",
       "Age                           int64\n",
       "Outcome                       int64\n",
       "dtype: object"
      ]
     },
     "execution_count": 6,
     "metadata": {},
     "output_type": "execute_result"
    }
   ],
   "source": [
    "df.dtypes"
   ]
  },
  {
   "cell_type": "code",
   "execution_count": 7,
   "id": "d238f53e",
   "metadata": {},
   "outputs": [
    {
     "data": {
      "text/plain": [
       "Index(['Pregnancies', 'Glucose', 'BloodPressure', 'SkinThickness', 'Insulin',\n",
       "       'BMI', 'DiabetesPedigreeFunction', 'Age', 'Outcome'],\n",
       "      dtype='object')"
      ]
     },
     "execution_count": 7,
     "metadata": {},
     "output_type": "execute_result"
    }
   ],
   "source": [
    "df.columns"
   ]
  },
  {
   "cell_type": "code",
   "execution_count": 8,
   "id": "1b75299e",
   "metadata": {},
   "outputs": [],
   "source": [
    "def data_down_upsampling(X,y):\n",
    "    '''\n",
    "     this function downsamples X and y\n",
    "    '''\n",
    "    near_miss = NearMiss() \n",
    "    x_DS, y_DS = near_miss.fit_sample(X,y)\n",
    "    smote = SMOTE() \n",
    "    x_US, y_US = smote.fit_sample(X,y)\n",
    "    return x_DS, y_DS,x_US, y_US"
   ]
  },
  {
   "cell_type": "markdown",
   "id": "33a3b476",
   "metadata": {},
   "source": [
    "# showing correlation to output"
   ]
  },
  {
   "cell_type": "code",
   "execution_count": 9,
   "id": "de4afae2",
   "metadata": {},
   "outputs": [
    {
     "data": {
      "text/html": [
       "<style  type=\"text/css\" >\n",
       "#T_51226_row0_col0{\n",
       "            background-color:  #ffff00;\n",
       "            color:  #000000;\n",
       "        }#T_51226_row1_col0{\n",
       "            background-color:  #f8f87f;\n",
       "            color:  #000000;\n",
       "        }#T_51226_row2_col0{\n",
       "            background-color:  #f5f5a7;\n",
       "            color:  #000000;\n",
       "        }#T_51226_row3_col0{\n",
       "            background-color:  #f4f4b4;\n",
       "            color:  #000000;\n",
       "        }#T_51226_row4_col0{\n",
       "            background-color:  #f4f4b9;\n",
       "            color:  #000000;\n",
       "        }#T_51226_row5_col0{\n",
       "            background-color:  #f3f3c4;\n",
       "            color:  #000000;\n",
       "        }#T_51226_row6_col0{\n",
       "            background-color:  #f3f3ce;\n",
       "            color:  #000000;\n",
       "        }#T_51226_row7_col0{\n",
       "            background-color:  #f2f2dc;\n",
       "            color:  #000000;\n",
       "        }#T_51226_row8_col0{\n",
       "            background-color:  #f2f2dd;\n",
       "            color:  #000000;\n",
       "        }</style><table id=\"T_51226_\" ><thead>    <tr>        <th class=\"blank level0\" ></th>        <th class=\"col_heading level0 col0\" >Correlation to the target</th>    </tr></thead><tbody>\n",
       "                <tr>\n",
       "                        <th id=\"T_51226_level0_row0\" class=\"row_heading level0 row0\" >Outcome</th>\n",
       "                        <td id=\"T_51226_row0_col0\" class=\"data row0 col0\" >1.000000</td>\n",
       "            </tr>\n",
       "            <tr>\n",
       "                        <th id=\"T_51226_level0_row1\" class=\"row_heading level0 row1\" >Glucose</th>\n",
       "                        <td id=\"T_51226_row1_col0\" class=\"data row1 col0\" >0.466581</td>\n",
       "            </tr>\n",
       "            <tr>\n",
       "                        <th id=\"T_51226_level0_row2\" class=\"row_heading level0 row2\" >BMI</th>\n",
       "                        <td id=\"T_51226_row2_col0\" class=\"data row2 col0\" >0.292695</td>\n",
       "            </tr>\n",
       "            <tr>\n",
       "                        <th id=\"T_51226_level0_row3\" class=\"row_heading level0 row3\" >Age</th>\n",
       "                        <td id=\"T_51226_row3_col0\" class=\"data row3 col0\" >0.238356</td>\n",
       "            </tr>\n",
       "            <tr>\n",
       "                        <th id=\"T_51226_level0_row4\" class=\"row_heading level0 row4\" >Pregnancies</th>\n",
       "                        <td id=\"T_51226_row4_col0\" class=\"data row4 col0\" >0.221898</td>\n",
       "            </tr>\n",
       "            <tr>\n",
       "                        <th id=\"T_51226_level0_row5\" class=\"row_heading level0 row5\" >DiabetesPedigreeFunction</th>\n",
       "                        <td id=\"T_51226_row5_col0\" class=\"data row5 col0\" >0.173844</td>\n",
       "            </tr>\n",
       "            <tr>\n",
       "                        <th id=\"T_51226_level0_row6\" class=\"row_heading level0 row6\" >Insulin</th>\n",
       "                        <td id=\"T_51226_row6_col0\" class=\"data row6 col0\" >0.130548</td>\n",
       "            </tr>\n",
       "            <tr>\n",
       "                        <th id=\"T_51226_level0_row7\" class=\"row_heading level0 row7\" >SkinThickness</th>\n",
       "                        <td id=\"T_51226_row7_col0\" class=\"data row7 col0\" >0.074752</td>\n",
       "            </tr>\n",
       "            <tr>\n",
       "                        <th id=\"T_51226_level0_row8\" class=\"row_heading level0 row8\" >BloodPressure</th>\n",
       "                        <td id=\"T_51226_row8_col0\" class=\"data row8 col0\" >0.065068</td>\n",
       "            </tr>\n",
       "    </tbody></table>"
      ],
      "text/plain": [
       "<pandas.io.formats.style.Styler at 0x1db7ada9708>"
      ]
     },
     "execution_count": 9,
     "metadata": {},
     "output_type": "execute_result"
    }
   ],
   "source": [
    "df1Corr=pd.DataFrame(df.corr().unstack().sort_values(ascending=False)['Outcome'],columns=['Correlation to the target'])\n",
    "df1Corr.style.background_gradient(cmap=sns.light_palette(\"yellow\", as_cmap=True))"
   ]
  },
  {
   "cell_type": "markdown",
   "id": "c2b80c2d",
   "metadata": {},
   "source": [
    "# showing distribution of each class"
   ]
  },
  {
   "cell_type": "code",
   "execution_count": 10,
   "id": "0f4d55d8",
   "metadata": {},
   "outputs": [
    {
     "name": "stdout",
     "output_type": "stream",
     "text": [
      "Total number of records: 768\n",
      "Individuals with diabetes: 268\n",
      "Individuals with no diabetes: 500\n",
      "Percentage of individuals not infected with diabetes: 65%\n"
     ]
    }
   ],
   "source": [
    "# Total number of records\n",
    "n_records = len(df)\n",
    "\n",
    "# Number of records where output is zero\n",
    "n_equ_0 = len(df[df[\"Outcome\"]==0])\n",
    "\n",
    "# Number of records where output is 1\n",
    "n_equ_1 = len(df[df[\"Outcome\"]==1])\n",
    "\n",
    "# Percentage of individuals whose income is more than $50,000\n",
    "greater_percent = round((n_equ_0/n_records)*100)\n",
    "\n",
    "# Print the results\n",
    "print(\"Total number of records: {}\".format(n_records))\n",
    "print(\"Individuals with diabetes: {}\".format(n_equ_1))\n",
    "print(\"Individuals with no diabetes: {}\".format(n_equ_0))\n",
    "print(\"Percentage of individuals not infected with diabetes: {}%\".format(greater_percent))"
   ]
  },
  {
   "cell_type": "markdown",
   "id": "555732c9",
   "metadata": {},
   "source": [
    "# showing histogram for features"
   ]
  },
  {
   "cell_type": "code",
   "execution_count": 12,
   "id": "47294d06",
   "metadata": {},
   "outputs": [
    {
     "data": {
      "image/png": "[encoded data removed]",
      "text/plain": [
       "<Figure size 1440x720 with 9 Axes>"
      ]
     },
     "metadata": {
      "needs_background": "light"
     },
     "output_type": "display_data"
    }
   ],
   "source": [
    "df.hist(figsize=(20,10))\n",
    "plt.show()"
   ]
  },
  {
   "cell_type": "code",
   "execution_count": 13,
   "id": "86dbbeda",
   "metadata": {},
   "outputs": [
    {
     "data": {
      "text/plain": [
       "Text(0.5, 1.0, 'Histogram of BloodPressure')"
      ]
     },
     "execution_count": 13,
     "metadata": {},
     "output_type": "execute_result"
    },
    {
     "name": "stderr",
     "output_type": "stream",
     "text": [
      "C:\\Users\\NourhanElaraby\\anaconda3\\lib\\site-packages\\matplotlib\\backends\\backend_agg.py:238: RuntimeWarning: Glyph 9 missing from current font.\n",
      "  font.set_text(s, 0.0, flags=flags)\n",
      "C:\\Users\\NourhanElaraby\\anaconda3\\lib\\site-packages\\matplotlib\\backends\\backend_agg.py:201: RuntimeWarning: Glyph 9 missing from current font.\n",
      "  font.set_text(s, 0, flags=flags)\n"
     ]
    },
    {
     "data": {
      "image/png": "[encoded data removed]",
      "text/plain": [
       "<Figure size 1800x1440 with 9 Axes>"
      ]
     },
     "metadata": {
      "needs_background": "light"
     },
     "output_type": "display_data"
    }
   ],
   "source": [
    "fig, ax = plt.subplots(3, 3, figsize=(25, 20))\n",
    "sns.histplot(df[\"Outcome\"],ax=ax[0][0])\n",
    "ax[0][0].set_title(\"Histogram of Outcome\")\n",
    "sns.histplot(df[\"Glucose\"],ax=ax[0][1])\n",
    "ax[0][1].set_title(\"Histogram of Glucose\")\n",
    "sns.histplot(df[\"BMI\"],ax=ax[0][2])\n",
    "ax[0][2].set_title(\"Histogram of BMI\")\n",
    "sns.histplot(df[\"Age\"],ax=ax[1][0])\n",
    "ax[1][0].set_title(\"Histogram of Age\")\n",
    "sns.histplot(df[\"Pregnancies\"],ax=ax[1][1])\n",
    "ax[1][1].set_title(\"Histogram of Pregnancies\")\n",
    "sns.histplot(df[\"DiabetesPedigreeFunction\"],ax=ax[1][2])\n",
    "ax[1][2].set_title(\"Histogram of DiabetesPedigreeFunction\")\n",
    "sns.histplot(df[\"Insulin\"],ax=ax[2][0])\n",
    "ax[2][0].set_title(\"Histogram of Insulin\")\n",
    "sns.histplot(df[\"SkinThickness\"],ax=ax[2][1])\n",
    "ax[2][1].set_title(\"Histogram of SkinThickness\t\")\n",
    "sns.histplot(df[\"BloodPressure\"],ax=ax[2][2])\n",
    "ax[2][2].set_title(\"Histogram of BloodPressure\")"
   ]
  },
  {
   "cell_type": "markdown",
   "id": "1bf37353",
   "metadata": {},
   "source": [
    "## Conclusion"
   ]
  },
  {
   "cell_type": "markdown",
   "id": "c58f1b58",
   "metadata": {},
   "source": [
    "The following data has values around zero which is illogical:\n",
    "\n",
    "1)insulin    <br>\n",
    "2)thickness  <br>\n",
    "3)bloodpressure   <br>\n",
    "4)bmi             <br>\n",
    "5)glucose          <br>\n",
    "\n",
    "I will  treat them as missing values (missing data imputation)"
   ]
  },
  {
   "cell_type": "markdown",
   "id": "4739ae4e",
   "metadata": {},
   "source": [
    "# Showing Diagnostic plot for numerical features"
   ]
  },
  {
   "cell_type": "code",
   "execution_count": 14,
   "id": "6ae633d5",
   "metadata": {},
   "outputs": [],
   "source": [
    "# function to create histogram, Q-Q plot and\n",
    "# boxplot. \n",
    "def diagnostic_plots(df, variable):\n",
    "    # function takes a dataframe (df) and\n",
    "    # the variable of interest as arguments\n",
    "\n",
    "    # define figure size\n",
    "    plt.figure(figsize=(16, 4))\n",
    "\n",
    "    # histogram\n",
    "    plt.subplot(1, 3, 1)\n",
    "    sns.histplot(df[variable], bins=30)\n",
    "    plt.title('Histogram')\n",
    "\n",
    "    # Q-Q plot\n",
    "    plt.subplot(1, 3, 2)\n",
    "    stats.probplot(df[variable], dist=\"norm\", plot=plt)\n",
    "    plt.ylabel('Variable quantiles')\n",
    "\n",
    "    # boxplot\n",
    "    plt.subplot(1, 3, 3)\n",
    "    sns.boxplot(y=df[variable])\n",
    "    plt.title('Boxplot')\n",
    "\n",
    "    plt.show()"
   ]
  },
  {
   "cell_type": "code",
   "execution_count": 15,
   "id": "f836723a",
   "metadata": {},
   "outputs": [
    {
     "name": "stdout",
     "output_type": "stream",
     "text": [
      "['Pregnancies', 'Glucose', 'BloodPressure', 'SkinThickness', 'Insulin', 'BMI', 'DiabetesPedigreeFunction', 'Age']\n"
     ]
    }
   ],
   "source": [
    "df_cols=list(df.columns)[:-1]\n",
    "print(df_cols)"
   ]
  },
  {
   "cell_type": "code",
   "execution_count": 16,
   "id": "cc036b8c",
   "metadata": {},
   "outputs": [
    {
     "data": {
      "image/png": "[encoded data removed]",
      "text/plain": [
       "<Figure size 1152x288 with 3 Axes>"
      ]
     },
     "metadata": {
      "needs_background": "light"
     },
     "output_type": "display_data"
    },
    {
     "data": {
      "image/png": "[encoded data removed]",
      "text/plain": [
       "<Figure size 1152x288 with 3 Axes>"
      ]
     },
     "metadata": {
      "needs_background": "light"
     },
     "output_type": "display_data"
    },
    {
     "data": {
      "image/png": "[encoded data removed]",
      "text/plain": [
       "<Figure size 1152x288 with 3 Axes>"
      ]
     },
     "metadata": {
      "needs_background": "light"
     },
     "output_type": "display_data"
    },
    {
     "data": {
      "image/png": "[encoded data removed]",
      "text/plain": [
       "<Figure size 1152x288 with 3 Axes>"
      ]
     },
     "metadata": {
      "needs_background": "light"
     },
     "output_type": "display_data"
    },
    {
     "data": {
      "image/png": "[encoded data removed]",
      "text/plain": [
       "<Figure size 1152x288 with 3 Axes>"
      ]
     },
     "metadata": {
      "needs_background": "light"
     },
     "output_type": "display_data"
    },
    {
     "data": {
      "image/png": "[encoded data removed]",
      "text/plain": [
       "<Figure size 1152x288 with 3 Axes>"
      ]
     },
     "metadata": {
      "needs_background": "light"
     },
     "output_type": "display_data"
    },
    {
     "data": {
      "image/png": "[encoded data removed]",
      "text/plain": [
       "<Figure size 1152x288 with 3 Axes>"
      ]
     },
     "metadata": {
      "needs_background": "light"
     },
     "output_type": "display_data"
    },
    {
     "data": {
      "image/png": "[encoded data removed]",
      "text/plain": [
       "<Figure size 1152x288 with 3 Axes>"
      ]
     },
     "metadata": {
      "needs_background": "light"
     },
     "output_type": "display_data"
    }
   ],
   "source": [
    "for i in df_cols:\n",
    "    diagnostic_plots(df,i)"
   ]
  },
  {
   "cell_type": "markdown",
   "id": "e78c6cec",
   "metadata": {},
   "source": [
    "## Coclusion "
   ]
  },
  {
   "cell_type": "markdown",
   "id": "74893694",
   "metadata": {},
   "source": [
    "all data have outliers with different percentages except for glucose that is why i will use robust scaler"
   ]
  },
  {
   "cell_type": "markdown",
   "id": "b4ee9cba",
   "metadata": {},
   "source": [
    "# Data Preprocessing"
   ]
  },
  {
   "cell_type": "markdown",
   "id": "88b0005d",
   "metadata": {},
   "source": [
    "## Missing Data Imputation"
   ]
  },
  {
   "cell_type": "code",
   "execution_count": 17,
   "id": "88bef40c",
   "metadata": {},
   "outputs": [
    {
     "name": "stdout",
     "output_type": "stream",
     "text": [
      "<class 'pandas.core.frame.DataFrame'>\n",
      "RangeIndex: 768 entries, 0 to 767\n",
      "Data columns (total 9 columns):\n",
      " #   Column                    Non-Null Count  Dtype  \n",
      "---  ------                    --------------  -----  \n",
      " 0   Pregnancies               768 non-null    int64  \n",
      " 1   Glucose                   768 non-null    int64  \n",
      " 2   BloodPressure             768 non-null    int64  \n",
      " 3   SkinThickness             768 non-null    int64  \n",
      " 4   Insulin                   768 non-null    int64  \n",
      " 5   BMI                       768 non-null    float64\n",
      " 6   DiabetesPedigreeFunction  768 non-null    float64\n",
      " 7   Age                       768 non-null    int64  \n",
      " 8   Outcome                   768 non-null    int64  \n",
      "dtypes: float64(2), int64(7)\n",
      "memory usage: 54.1 KB\n"
     ]
    }
   ],
   "source": [
    "df.info()"
   ]
  },
  {
   "cell_type": "code",
   "execution_count": 18,
   "id": "0cb17a81",
   "metadata": {},
   "outputs": [],
   "source": [
    "#replacing zeros with np.nans\n",
    "df_nulls=['Glucose', 'BloodPressure', 'SkinThickness', 'Insulin','BMI']\n",
    "df[df_nulls]=df[df_nulls].apply(lambda x: x.replace(0,np.nan), axis=1)"
   ]
  },
  {
   "cell_type": "code",
   "execution_count": 19,
   "id": "d2a9a328",
   "metadata": {},
   "outputs": [
    {
     "name": "stdout",
     "output_type": "stream",
     "text": [
      "<class 'pandas.core.frame.DataFrame'>\n",
      "RangeIndex: 768 entries, 0 to 767\n",
      "Data columns (total 9 columns):\n",
      " #   Column                    Non-Null Count  Dtype  \n",
      "---  ------                    --------------  -----  \n",
      " 0   Pregnancies               768 non-null    int64  \n",
      " 1   Glucose                   763 non-null    float64\n",
      " 2   BloodPressure             733 non-null    float64\n",
      " 3   SkinThickness             541 non-null    float64\n",
      " 4   Insulin                   394 non-null    float64\n",
      " 5   BMI                       757 non-null    float64\n",
      " 6   DiabetesPedigreeFunction  768 non-null    float64\n",
      " 7   Age                       768 non-null    int64  \n",
      " 8   Outcome                   768 non-null    int64  \n",
      "dtypes: float64(6), int64(3)\n",
      "memory usage: 54.1 KB\n"
     ]
    }
   ],
   "source": [
    "df.info()"
   ]
  },
  {
   "cell_type": "code",
   "execution_count": 20,
   "id": "2f0ca43d",
   "metadata": {},
   "outputs": [
    {
     "data": {
      "text/plain": [
       "Insulin                     0.486979\n",
       "SkinThickness               0.295573\n",
       "BloodPressure               0.045573\n",
       "BMI                         0.014323\n",
       "Glucose                     0.006510\n",
       "Pregnancies                 0.000000\n",
       "DiabetesPedigreeFunction    0.000000\n",
       "Age                         0.000000\n",
       "Outcome                     0.000000\n",
       "dtype: float64"
      ]
     },
     "execution_count": 20,
     "metadata": {},
     "output_type": "execute_result"
    }
   ],
   "source": [
    "df.isnull().mean().sort_values(ascending=False)"
   ]
  },
  {
   "cell_type": "code",
   "execution_count": 21,
   "id": "6f51cbdf",
   "metadata": {},
   "outputs": [
    {
     "name": "stdout",
     "output_type": "stream",
     "text": [
      "Glucose 5\n",
      "BloodPressure 35\n",
      "SkinThickness 227\n",
      "Insulin 374\n",
      "BMI 11\n"
     ]
    }
   ],
   "source": [
    "# find variables with missing data\n",
    "for var in df.columns:\n",
    "    if df[var].isnull().sum() > 1:\n",
    "        print(var, df[var].isnull().sum())"
   ]
  },
  {
   "cell_type": "markdown",
   "id": "2d0c98e4",
   "metadata": {},
   "source": [
    "## conclusion about missing data"
   ]
  },
  {
   "cell_type": "markdown",
   "id": "e333bb74",
   "metadata": {},
   "source": [
    "**missing cols**\n",
    "\n",
    "1) Insulin            (more than 5% missing)   :knn imputation <br>\n",
    "2) Skin Thickness     (more than 5% missing)   :knn imputation<br>\n",
    "3) Blood Pressure     (less than 5% missing)   :median/mean imputation  <br>\n",
    "4)BMI                 (less than 5% missing)   :median/mean imputation  <br>\n",
    "5)Glucose             (less than 5% missing)    :median/mean imputation <br>"
   ]
  },
  {
   "cell_type": "code",
   "execution_count": 22,
   "id": "3def34d8",
   "metadata": {},
   "outputs": [
    {
     "name": "stdout",
     "output_type": "stream",
     "text": [
      "['Pregnancies', 'Glucose', 'BloodPressure', 'SkinThickness', 'Insulin', 'BMI', 'DiabetesPedigreeFunction', 'Age']\n"
     ]
    }
   ],
   "source": [
    "cols_use=list(df.columns)[:-1]\n",
    "print(cols_use)"
   ]
  },
  {
   "cell_type": "code",
   "execution_count": 23,
   "id": "8efdf47e",
   "metadata": {},
   "outputs": [
    {
     "name": "stdout",
     "output_type": "stream",
     "text": [
      "Training set has 614 samples.\n",
      "Testing set has 154 samples.\n"
     ]
    }
   ],
   "source": [
    "# Split the 'features' and 'income' data into training and testing sets\n",
    "X_train, X_test, y_train, y_test = train_test_split(df.drop(\"Outcome\",axis=1), \n",
    "                                                    df[\"Outcome\"], \n",
    "                                                    test_size = 0.2, \n",
    "                                                    random_state = 0)\n",
    "\n",
    "# Show the results of the split\n",
    "print(\"Training set has {} samples.\".format(X_train.shape[0]))\n",
    "print(\"Testing set has {} samples.\".format(X_test.shape[0]))"
   ]
  },
  {
   "cell_type": "code",
   "execution_count": 24,
   "id": "1c21717e",
   "metadata": {},
   "outputs": [
    {
     "name": "stdout",
     "output_type": "stream",
     "text": [
      "<class 'pandas.core.frame.DataFrame'>\n"
     ]
    }
   ],
   "source": [
    "print(type(X_train))"
   ]
  },
  {
   "cell_type": "code",
   "execution_count": 25,
   "id": "45798f1d",
   "metadata": {},
   "outputs": [
    {
     "data": {
      "text/plain": [
       "Index(['Pregnancies', 'Glucose', 'BloodPressure', 'SkinThickness', 'Insulin',\n",
       "       'BMI', 'DiabetesPedigreeFunction', 'Age'],\n",
       "      dtype='object')"
      ]
     },
     "execution_count": 25,
     "metadata": {},
     "output_type": "execute_result"
    }
   ],
   "source": [
    "X_train.columns"
   ]
  },
  {
   "cell_type": "markdown",
   "id": "47bbd92d",
   "metadata": {},
   "source": [
    "# Feature Engineering"
   ]
  },
  {
   "cell_type": "markdown",
   "id": "b033f15a",
   "metadata": {},
   "source": [
    "## Knn Imputation for Insulin and skin Thickness"
   ]
  },
  {
   "cell_type": "code",
   "execution_count": 26,
   "id": "291db495",
   "metadata": {},
   "outputs": [
    {
     "name": "stdout",
     "output_type": "stream",
     "text": [
      "<class 'pandas.core.frame.DataFrame'>\n",
      "RangeIndex: 768 entries, 0 to 767\n",
      "Data columns (total 9 columns):\n",
      " #   Column                    Non-Null Count  Dtype  \n",
      "---  ------                    --------------  -----  \n",
      " 0   Pregnancies               768 non-null    int64  \n",
      " 1   Glucose                   763 non-null    float64\n",
      " 2   BloodPressure             733 non-null    float64\n",
      " 3   SkinThickness             541 non-null    float64\n",
      " 4   Insulin                   394 non-null    float64\n",
      " 5   BMI                       757 non-null    float64\n",
      " 6   DiabetesPedigreeFunction  768 non-null    float64\n",
      " 7   Age                       768 non-null    int64  \n",
      " 8   Outcome                   768 non-null    int64  \n",
      "dtypes: float64(6), int64(3)\n",
      "memory usage: 54.1 KB\n"
     ]
    }
   ],
   "source": [
    "df.info()"
   ]
  },
  {
   "cell_type": "code",
   "execution_count": 27,
   "id": "3985dcfb",
   "metadata": {},
   "outputs": [],
   "source": [
    "from feature_engine.wrappers import SklearnTransformerWrapper\n",
    "num_feat_knn=['Insulin','SkinThickness']\n",
    "imputer = SklearnTransformerWrapper(\n",
    "    transformer = KNNImputer(n_neighbors=5,weights='distance'),\n",
    "    variables = num_feat_knn,\n",
    ")"
   ]
  },
  {
   "cell_type": "code",
   "execution_count": 28,
   "id": "14d0b99e",
   "metadata": {},
   "outputs": [
    {
     "data": {
      "text/html": [
       "<div>\n",
       "<style scoped>\n",
       "    .dataframe tbody tr th:only-of-type {\n",
       "        vertical-align: middle;\n",
       "    }\n",
       "\n",
       "    .dataframe tbody tr th {\n",
       "        vertical-align: top;\n",
       "    }\n",
       "\n",
       "    .dataframe thead th {\n",
       "        text-align: right;\n",
       "    }\n",
       "</style>\n",
       "<table border=\"1\" class=\"dataframe\">\n",
       "  <thead>\n",
       "    <tr style=\"text-align: right;\">\n",
       "      <th></th>\n",
       "      <th>Pregnancies</th>\n",
       "      <th>Glucose</th>\n",
       "      <th>BloodPressure</th>\n",
       "      <th>SkinThickness</th>\n",
       "      <th>Insulin</th>\n",
       "      <th>BMI</th>\n",
       "      <th>DiabetesPedigreeFunction</th>\n",
       "      <th>Age</th>\n",
       "    </tr>\n",
       "  </thead>\n",
       "  <tbody>\n",
       "    <tr>\n",
       "      <th>603</th>\n",
       "      <td>7</td>\n",
       "      <td>150.0</td>\n",
       "      <td>78.0</td>\n",
       "      <td>29.0000</td>\n",
       "      <td>126.0</td>\n",
       "      <td>35.2</td>\n",
       "      <td>0.692</td>\n",
       "      <td>54</td>\n",
       "    </tr>\n",
       "    <tr>\n",
       "      <th>118</th>\n",
       "      <td>4</td>\n",
       "      <td>97.0</td>\n",
       "      <td>60.0</td>\n",
       "      <td>23.0000</td>\n",
       "      <td>84.2</td>\n",
       "      <td>28.2</td>\n",
       "      <td>0.443</td>\n",
       "      <td>22</td>\n",
       "    </tr>\n",
       "    <tr>\n",
       "      <th>247</th>\n",
       "      <td>0</td>\n",
       "      <td>165.0</td>\n",
       "      <td>90.0</td>\n",
       "      <td>33.0000</td>\n",
       "      <td>680.0</td>\n",
       "      <td>52.3</td>\n",
       "      <td>0.427</td>\n",
       "      <td>23</td>\n",
       "    </tr>\n",
       "    <tr>\n",
       "      <th>157</th>\n",
       "      <td>1</td>\n",
       "      <td>109.0</td>\n",
       "      <td>56.0</td>\n",
       "      <td>21.0000</td>\n",
       "      <td>135.0</td>\n",
       "      <td>25.2</td>\n",
       "      <td>0.833</td>\n",
       "      <td>23</td>\n",
       "    </tr>\n",
       "    <tr>\n",
       "      <th>468</th>\n",
       "      <td>8</td>\n",
       "      <td>120.0</td>\n",
       "      <td>NaN</td>\n",
       "      <td>29.3125</td>\n",
       "      <td>157.6</td>\n",
       "      <td>30.0</td>\n",
       "      <td>0.183</td>\n",
       "      <td>38</td>\n",
       "    </tr>\n",
       "  </tbody>\n",
       "</table>\n",
       "</div>"
      ],
      "text/plain": [
       "     Pregnancies  Glucose  BloodPressure  SkinThickness  Insulin   BMI  \\\n",
       "603            7    150.0           78.0        29.0000    126.0  35.2   \n",
       "118            4     97.0           60.0        23.0000     84.2  28.2   \n",
       "247            0    165.0           90.0        33.0000    680.0  52.3   \n",
       "157            1    109.0           56.0        21.0000    135.0  25.2   \n",
       "468            8    120.0            NaN        29.3125    157.6  30.0   \n",
       "\n",
       "     DiabetesPedigreeFunction  Age  \n",
       "603                     0.692   54  \n",
       "118                     0.443   22  \n",
       "247                     0.427   23  \n",
       "157                     0.833   23  \n",
       "468                     0.183   38  "
      ]
     },
     "execution_count": 28,
     "metadata": {},
     "output_type": "execute_result"
    }
   ],
   "source": [
    "imputer.fit(X_train)\n",
    "\n",
    "# transform the data\n",
    "train_t = imputer.transform(X_train)\n",
    "test_t = imputer.transform(X_test)\n",
    "\n",
    "# feature-engine returns a dataframe\n",
    "train_t.head()"
   ]
  },
  {
   "cell_type": "code",
   "execution_count": 29,
   "id": "f7110a01",
   "metadata": {},
   "outputs": [
    {
     "name": "stdout",
     "output_type": "stream",
     "text": [
      "<class 'pandas.core.frame.DataFrame'>\n",
      "Int64Index: 614 entries, 603 to 684\n",
      "Data columns (total 8 columns):\n",
      " #   Column                    Non-Null Count  Dtype  \n",
      "---  ------                    --------------  -----  \n",
      " 0   Pregnancies               614 non-null    int64  \n",
      " 1   Glucose                   610 non-null    float64\n",
      " 2   BloodPressure             585 non-null    float64\n",
      " 3   SkinThickness             614 non-null    float64\n",
      " 4   Insulin                   614 non-null    float64\n",
      " 5   BMI                       606 non-null    float64\n",
      " 6   DiabetesPedigreeFunction  614 non-null    float64\n",
      " 7   Age                       614 non-null    int64  \n",
      "dtypes: float64(6), int64(2)\n",
      "memory usage: 43.2 KB\n"
     ]
    }
   ],
   "source": [
    "train_t.info()"
   ]
  },
  {
   "cell_type": "code",
   "execution_count": 30,
   "id": "502a58f2",
   "metadata": {},
   "outputs": [
    {
     "name": "stdout",
     "output_type": "stream",
     "text": [
      "<class 'pandas.core.frame.DataFrame'>\n",
      "Int64Index: 154 entries, 661 to 380\n",
      "Data columns (total 8 columns):\n",
      " #   Column                    Non-Null Count  Dtype  \n",
      "---  ------                    --------------  -----  \n",
      " 0   Pregnancies               154 non-null    int64  \n",
      " 1   Glucose                   153 non-null    float64\n",
      " 2   BloodPressure             148 non-null    float64\n",
      " 3   SkinThickness             154 non-null    float64\n",
      " 4   Insulin                   154 non-null    float64\n",
      " 5   BMI                       151 non-null    float64\n",
      " 6   DiabetesPedigreeFunction  154 non-null    float64\n",
      " 7   Age                       154 non-null    int64  \n",
      "dtypes: float64(6), int64(2)\n",
      "memory usage: 10.8 KB\n"
     ]
    }
   ],
   "source": [
    "test_t.info()"
   ]
  },
  {
   "cell_type": "code",
   "execution_count": 31,
   "id": "1900da0b",
   "metadata": {},
   "outputs": [],
   "source": [
    "cols_to_use=list(train_t.columns)"
   ]
  },
  {
   "cell_type": "code",
   "execution_count": 32,
   "id": "b64b2aa4",
   "metadata": {},
   "outputs": [
    {
     "data": {
      "text/plain": [
       "SimpleImputer(strategy='median')"
      ]
     },
     "execution_count": 32,
     "metadata": {},
     "output_type": "execute_result"
    }
   ],
   "source": [
    "imputer = SimpleImputer(strategy='median')\n",
    "\n",
    "# we fit the imputer to the train set\n",
    "# the imputer will learn the median of all variables\n",
    "imputer.fit(train_t)"
   ]
  },
  {
   "cell_type": "code",
   "execution_count": 33,
   "id": "2e934a31",
   "metadata": {},
   "outputs": [],
   "source": [
    "X_train = imputer.transform(train_t)\n",
    "X_test = imputer.transform(test_t)"
   ]
  },
  {
   "cell_type": "code",
   "execution_count": 34,
   "id": "c6278fce",
   "metadata": {},
   "outputs": [
    {
     "data": {
      "text/plain": [
       "array([[7.00e+00, 1.50e+02, 7.80e+01, ..., 3.52e+01, 6.92e-01, 5.40e+01],\n",
       "       [4.00e+00, 9.70e+01, 6.00e+01, ..., 2.82e+01, 4.43e-01, 2.20e+01],\n",
       "       [0.00e+00, 1.65e+02, 9.00e+01, ..., 5.23e+01, 4.27e-01, 2.30e+01],\n",
       "       ...,\n",
       "       [4.00e+00, 9.40e+01, 6.50e+01, ..., 2.47e+01, 1.48e-01, 2.10e+01],\n",
       "       [1.10e+01, 8.50e+01, 7.40e+01, ..., 3.01e+01, 3.00e-01, 3.50e+01],\n",
       "       [5.00e+00, 1.36e+02, 8.20e+01, ..., 3.24e+01, 6.40e-01, 6.90e+01]])"
      ]
     },
     "execution_count": 34,
     "metadata": {},
     "output_type": "execute_result"
    }
   ],
   "source": [
    "X_train"
   ]
  },
  {
   "cell_type": "code",
   "execution_count": 35,
   "id": "367a3ffb",
   "metadata": {},
   "outputs": [
    {
     "data": {
      "text/html": [
       "<div>\n",
       "<style scoped>\n",
       "    .dataframe tbody tr th:only-of-type {\n",
       "        vertical-align: middle;\n",
       "    }\n",
       "\n",
       "    .dataframe tbody tr th {\n",
       "        vertical-align: top;\n",
       "    }\n",
       "\n",
       "    .dataframe thead th {\n",
       "        text-align: right;\n",
       "    }\n",
       "</style>\n",
       "<table border=\"1\" class=\"dataframe\">\n",
       "  <thead>\n",
       "    <tr style=\"text-align: right;\">\n",
       "      <th></th>\n",
       "      <th>Pregnancies</th>\n",
       "      <th>Glucose</th>\n",
       "      <th>BloodPressure</th>\n",
       "      <th>SkinThickness</th>\n",
       "      <th>Insulin</th>\n",
       "      <th>BMI</th>\n",
       "      <th>DiabetesPedigreeFunction</th>\n",
       "      <th>Age</th>\n",
       "    </tr>\n",
       "  </thead>\n",
       "  <tbody>\n",
       "    <tr>\n",
       "      <th>0</th>\n",
       "      <td>7.0</td>\n",
       "      <td>150.0</td>\n",
       "      <td>78.0</td>\n",
       "      <td>29.0000</td>\n",
       "      <td>126.0</td>\n",
       "      <td>35.2</td>\n",
       "      <td>0.692</td>\n",
       "      <td>54.0</td>\n",
       "    </tr>\n",
       "    <tr>\n",
       "      <th>1</th>\n",
       "      <td>4.0</td>\n",
       "      <td>97.0</td>\n",
       "      <td>60.0</td>\n",
       "      <td>23.0000</td>\n",
       "      <td>84.2</td>\n",
       "      <td>28.2</td>\n",
       "      <td>0.443</td>\n",
       "      <td>22.0</td>\n",
       "    </tr>\n",
       "    <tr>\n",
       "      <th>2</th>\n",
       "      <td>0.0</td>\n",
       "      <td>165.0</td>\n",
       "      <td>90.0</td>\n",
       "      <td>33.0000</td>\n",
       "      <td>680.0</td>\n",
       "      <td>52.3</td>\n",
       "      <td>0.427</td>\n",
       "      <td>23.0</td>\n",
       "    </tr>\n",
       "    <tr>\n",
       "      <th>3</th>\n",
       "      <td>1.0</td>\n",
       "      <td>109.0</td>\n",
       "      <td>56.0</td>\n",
       "      <td>21.0000</td>\n",
       "      <td>135.0</td>\n",
       "      <td>25.2</td>\n",
       "      <td>0.833</td>\n",
       "      <td>23.0</td>\n",
       "    </tr>\n",
       "    <tr>\n",
       "      <th>4</th>\n",
       "      <td>8.0</td>\n",
       "      <td>120.0</td>\n",
       "      <td>72.0</td>\n",
       "      <td>29.3125</td>\n",
       "      <td>157.6</td>\n",
       "      <td>30.0</td>\n",
       "      <td>0.183</td>\n",
       "      <td>38.0</td>\n",
       "    </tr>\n",
       "  </tbody>\n",
       "</table>\n",
       "</div>"
      ],
      "text/plain": [
       "   Pregnancies  Glucose  BloodPressure  SkinThickness  Insulin   BMI  \\\n",
       "0          7.0    150.0           78.0        29.0000    126.0  35.2   \n",
       "1          4.0     97.0           60.0        23.0000     84.2  28.2   \n",
       "2          0.0    165.0           90.0        33.0000    680.0  52.3   \n",
       "3          1.0    109.0           56.0        21.0000    135.0  25.2   \n",
       "4          8.0    120.0           72.0        29.3125    157.6  30.0   \n",
       "\n",
       "   DiabetesPedigreeFunction   Age  \n",
       "0                     0.692  54.0  \n",
       "1                     0.443  22.0  \n",
       "2                     0.427  23.0  \n",
       "3                     0.833  23.0  \n",
       "4                     0.183  38.0  "
      ]
     },
     "execution_count": 35,
     "metadata": {},
     "output_type": "execute_result"
    }
   ],
   "source": [
    "pd.DataFrame(X_train, columns=cols_to_use).head()"
   ]
  },
  {
   "cell_type": "code",
   "execution_count": 36,
   "id": "f2b970a7",
   "metadata": {},
   "outputs": [
    {
     "data": {
      "text/html": [
       "<div>\n",
       "<style scoped>\n",
       "    .dataframe tbody tr th:only-of-type {\n",
       "        vertical-align: middle;\n",
       "    }\n",
       "\n",
       "    .dataframe tbody tr th {\n",
       "        vertical-align: top;\n",
       "    }\n",
       "\n",
       "    .dataframe thead th {\n",
       "        text-align: right;\n",
       "    }\n",
       "</style>\n",
       "<table border=\"1\" class=\"dataframe\">\n",
       "  <thead>\n",
       "    <tr style=\"text-align: right;\">\n",
       "      <th></th>\n",
       "      <th>Pregnancies</th>\n",
       "      <th>Glucose</th>\n",
       "      <th>BloodPressure</th>\n",
       "      <th>SkinThickness</th>\n",
       "      <th>Insulin</th>\n",
       "      <th>BMI</th>\n",
       "      <th>DiabetesPedigreeFunction</th>\n",
       "      <th>Age</th>\n",
       "    </tr>\n",
       "  </thead>\n",
       "  <tbody>\n",
       "    <tr>\n",
       "      <th>0</th>\n",
       "      <td>1.0</td>\n",
       "      <td>199.0</td>\n",
       "      <td>76.0</td>\n",
       "      <td>43.0000</td>\n",
       "      <td>218.333333</td>\n",
       "      <td>42.9</td>\n",
       "      <td>1.394</td>\n",
       "      <td>22.0</td>\n",
       "    </tr>\n",
       "    <tr>\n",
       "      <th>1</th>\n",
       "      <td>2.0</td>\n",
       "      <td>107.0</td>\n",
       "      <td>74.0</td>\n",
       "      <td>30.0000</td>\n",
       "      <td>100.000000</td>\n",
       "      <td>33.6</td>\n",
       "      <td>0.404</td>\n",
       "      <td>23.0</td>\n",
       "    </tr>\n",
       "    <tr>\n",
       "      <th>2</th>\n",
       "      <td>4.0</td>\n",
       "      <td>76.0</td>\n",
       "      <td>62.0</td>\n",
       "      <td>29.3125</td>\n",
       "      <td>157.600000</td>\n",
       "      <td>34.0</td>\n",
       "      <td>0.391</td>\n",
       "      <td>25.0</td>\n",
       "    </tr>\n",
       "    <tr>\n",
       "      <th>3</th>\n",
       "      <td>5.0</td>\n",
       "      <td>166.0</td>\n",
       "      <td>72.0</td>\n",
       "      <td>19.0000</td>\n",
       "      <td>175.000000</td>\n",
       "      <td>25.8</td>\n",
       "      <td>0.587</td>\n",
       "      <td>51.0</td>\n",
       "    </tr>\n",
       "    <tr>\n",
       "      <th>4</th>\n",
       "      <td>0.0</td>\n",
       "      <td>111.0</td>\n",
       "      <td>65.0</td>\n",
       "      <td>29.3125</td>\n",
       "      <td>157.600000</td>\n",
       "      <td>24.6</td>\n",
       "      <td>0.660</td>\n",
       "      <td>31.0</td>\n",
       "    </tr>\n",
       "  </tbody>\n",
       "</table>\n",
       "</div>"
      ],
      "text/plain": [
       "   Pregnancies  Glucose  BloodPressure  SkinThickness     Insulin   BMI  \\\n",
       "0          1.0    199.0           76.0        43.0000  218.333333  42.9   \n",
       "1          2.0    107.0           74.0        30.0000  100.000000  33.6   \n",
       "2          4.0     76.0           62.0        29.3125  157.600000  34.0   \n",
       "3          5.0    166.0           72.0        19.0000  175.000000  25.8   \n",
       "4          0.0    111.0           65.0        29.3125  157.600000  24.6   \n",
       "\n",
       "   DiabetesPedigreeFunction   Age  \n",
       "0                     1.394  22.0  \n",
       "1                     0.404  23.0  \n",
       "2                     0.391  25.0  \n",
       "3                     0.587  51.0  \n",
       "4                     0.660  31.0  "
      ]
     },
     "execution_count": 36,
     "metadata": {},
     "output_type": "execute_result"
    }
   ],
   "source": [
    "pd.DataFrame(X_test, columns=cols_to_use).head()"
   ]
  },
  {
   "cell_type": "code",
   "execution_count": 37,
   "id": "e6eabcb1",
   "metadata": {},
   "outputs": [],
   "source": [
    "X_train = pd.DataFrame(X_train, columns=cols_to_use)\n",
    "X_test = pd.DataFrame(X_test, columns=cols_to_use)"
   ]
  },
  {
   "cell_type": "code",
   "execution_count": 38,
   "id": "77e4eccb",
   "metadata": {},
   "outputs": [
    {
     "name": "stdout",
     "output_type": "stream",
     "text": [
      "<class 'pandas.core.frame.DataFrame'>\n",
      "RangeIndex: 614 entries, 0 to 613\n",
      "Data columns (total 8 columns):\n",
      " #   Column                    Non-Null Count  Dtype  \n",
      "---  ------                    --------------  -----  \n",
      " 0   Pregnancies               614 non-null    float64\n",
      " 1   Glucose                   614 non-null    float64\n",
      " 2   BloodPressure             614 non-null    float64\n",
      " 3   SkinThickness             614 non-null    float64\n",
      " 4   Insulin                   614 non-null    float64\n",
      " 5   BMI                       614 non-null    float64\n",
      " 6   DiabetesPedigreeFunction  614 non-null    float64\n",
      " 7   Age                       614 non-null    float64\n",
      "dtypes: float64(8)\n",
      "memory usage: 38.5 KB\n"
     ]
    }
   ],
   "source": [
    "X_train.info()"
   ]
  },
  {
   "cell_type": "code",
   "execution_count": 39,
   "id": "d57c8789",
   "metadata": {},
   "outputs": [
    {
     "name": "stdout",
     "output_type": "stream",
     "text": [
      "<class 'pandas.core.frame.DataFrame'>\n",
      "RangeIndex: 154 entries, 0 to 153\n",
      "Data columns (total 8 columns):\n",
      " #   Column                    Non-Null Count  Dtype  \n",
      "---  ------                    --------------  -----  \n",
      " 0   Pregnancies               154 non-null    float64\n",
      " 1   Glucose                   154 non-null    float64\n",
      " 2   BloodPressure             154 non-null    float64\n",
      " 3   SkinThickness             154 non-null    float64\n",
      " 4   Insulin                   154 non-null    float64\n",
      " 5   BMI                       154 non-null    float64\n",
      " 6   DiabetesPedigreeFunction  154 non-null    float64\n",
      " 7   Age                       154 non-null    float64\n",
      "dtypes: float64(8)\n",
      "memory usage: 9.8 KB\n"
     ]
    }
   ],
   "source": [
    "X_test.info()"
   ]
  },
  {
   "cell_type": "code",
   "execution_count": 40,
   "id": "b36f6696",
   "metadata": {},
   "outputs": [],
   "source": [
    "transformer = RobustScaler().fit(X_train)\n",
    "X_train=transformer.transform(X_train)\n",
    "X_test=transformer.transform(X_test)"
   ]
  },
  {
   "cell_type": "code",
   "execution_count": 41,
   "id": "a004476a",
   "metadata": {},
   "outputs": [],
   "source": [
    "y_train=y_train.reset_index(drop=True)\n",
    "y_test=y_test.reset_index(drop=True)"
   ]
  },
  {
   "cell_type": "markdown",
   "id": "1274fe8f",
   "metadata": {},
   "source": [
    "# train_predict function"
   ]
  },
  {
   "cell_type": "code",
   "execution_count": 42,
   "id": "8aa4cef2",
   "metadata": {},
   "outputs": [
    {
     "data": {
      "text/plain": [
       "array([[ 0.8       ,  0.76190476,  0.375     , ...,  0.30517711,\n",
       "         0.87652646,  1.47058824],\n",
       "       [ 0.2       , -0.5       , -0.75      , ..., -0.45776567,\n",
       "         0.20081411, -0.41176471],\n",
       "       [-0.6       ,  1.11904762,  1.125     , ...,  2.16893733,\n",
       "         0.15739484, -0.35294118],\n",
       "       ...,\n",
       "       [ 0.2       , -0.57142857, -0.4375    , ..., -0.83923706,\n",
       "        -0.59972863, -0.47058824],\n",
       "       [ 1.6       , -0.78571429,  0.125     , ..., -0.2506812 ,\n",
       "        -0.18724559,  0.35294118],\n",
       "       [ 0.4       ,  0.42857143,  0.625     , ...,  0.        ,\n",
       "         0.73541384,  2.35294118]])"
      ]
     },
     "execution_count": 42,
     "metadata": {},
     "output_type": "execute_result"
    }
   ],
   "source": [
    "X_train"
   ]
  },
  {
   "cell_type": "code",
   "execution_count": 43,
   "id": "5452cb62",
   "metadata": {},
   "outputs": [],
   "source": [
    "#X_train, X_test, y_train, y_test\n"
   ]
  },
  {
   "cell_type": "code",
   "execution_count": 44,
   "id": "8821fdbb",
   "metadata": {},
   "outputs": [],
   "source": [
    "def train_predict(classifier,X_train,X_test,y_test,y_train): \n",
    "    '''\n",
    "    inputs:\n",
    "       - classifier: the learning algorithm to be trained and predicted on\n",
    "    '''\n",
    "    \n",
    "    results = {}\n",
    "    \n",
    "    # Fit the classifier to the training data and Calculate the time\n",
    "    start_train = time()\n",
    "    #classifier = classifier.fit(X_train_scaled, y_train_scaled)\n",
    "    classifier = classifier.fit(X_train, y_train)\n",
    "    end_train = time()\n",
    "    results['train_time'] = round((end_train-start_train), 2)\n",
    "\n",
    "    # Predict the training/testing labels and Calculate the time\n",
    "    start_test = time()\n",
    "    y_pred_train = classifier.predict(X_train)\n",
    "    y_pred_test = classifier.predict(X_test)\n",
    "    end_test = time()   \n",
    "    results['pred_time'] = round((end_test-start_test), 2)\n",
    "            \n",
    "    # Model evaluation (training/testing data) using accuracy\n",
    "    results['acc_train'] = round(accuracy_score(y_train, y_pred_train), 2)\n",
    "    results['acc_test'] = round(accuracy_score(y_test, y_pred_test), 2)\n",
    "    \n",
    "    #Model Evaluation using r2_score\n",
    "    results[\"r2_score_train\"]=round(r2_score(y_train, y_pred_train),2)\n",
    "    results[\"r2_score_test\"]=round(r2_score(y_test, y_pred_test),2)\n",
    "    \n",
    "    #Model Evaluation using mean square error\n",
    "    results[\"r2_score_train\"]=round(mean_squared_error(y_train, y_pred_train),2)\n",
    "    results[\"r2_score_test\"]=round(mean_squared_error(y_test, y_pred_test),2)\n",
    "    \n",
    "    \n",
    "    # Model evaluation (training/testing data) using f1-score\n",
    "    results['f1_train'] = round(f1_score(y_train, y_pred_train), 2)\n",
    "    results['f1_test'] = round(f1_score(y_test, y_pred_test), 2)\n",
    "    \n",
    "    # Display classification_report\n",
    "    report = classification_report(y_test, y_pred_test)\n",
    "       \n",
    "    \n",
    "    # Return the results\n",
    "    return results, report"
   ]
  },
  {
   "cell_type": "code",
   "execution_count": 45,
   "id": "c7136eff",
   "metadata": {},
   "outputs": [],
   "source": [
    "clf_LR = LogisticRegression(random_state=0,class_weight=\"balanced\")\n",
    "clf_SVM = SVC(random_state=0)\n",
    "clf_DT = DecisionTreeClassifier(random_state=0)\n"
   ]
  },
  {
   "cell_type": "code",
   "execution_count": 46,
   "id": "bc517d57",
   "metadata": {},
   "outputs": [],
   "source": [
    "clf_list = [clf_LR, clf_SVM,clf_DT]\n",
    "\n",
    "# Compare evaluation of the different classifiers\n",
    "clf_evaluation = {}\n",
    "clf_report = {}\n",
    "\n",
    "for clf in clf_list:\n",
    "    clf_evaluation[clf.__class__.__name__] = train_predict(clf,X_train, X_test, y_test,y_train )[0]\n",
    "    clf_report[clf.__class__.__name__] = train_predict(clf,X_train, X_test, y_test, y_train)[1]"
   ]
  },
  {
   "cell_type": "code",
   "execution_count": 51,
   "id": "fe8aca9f",
   "metadata": {},
   "outputs": [],
   "source": [
    "clf_knn1=KNeighborsClassifier(metric=\"euclidean\")\n",
    "clf_evaluation[\"KNN with euclidean\"] = train_predict(clf,X_train, X_test, y_test,y_train )[0]\n",
    "clf_report[\"KNN with euclidean\"] = train_predict(clf,X_train, X_test, y_test, y_train)[1]"
   ]
  },
  {
   "cell_type": "code",
   "execution_count": 52,
   "id": "8bb1139a",
   "metadata": {},
   "outputs": [],
   "source": [
    "# evaluation for knn with manhattan\n",
    "clf_knn2=KNeighborsClassifier(metric=\"manhattan\")\n",
    "clf_evaluation[\"KNN with manhattan\"] = train_predict(clf,X_train, X_test, y_test,y_train )[0]\n",
    "clf_report[\"KNN with manhattan\"] = train_predict(clf,X_train, X_test, y_test, y_train)[1]"
   ]
  },
  {
   "cell_type": "code",
   "execution_count": 53,
   "id": "7e2e3ed3",
   "metadata": {},
   "outputs": [],
   "source": [
    "# evaluating for knn with minkowski\n",
    "clf_knn3=KNeighborsClassifier(metric=\"minkowski\")"
   ]
  },
  {
   "cell_type": "code",
   "execution_count": 54,
   "id": "51b9cab6",
   "metadata": {},
   "outputs": [],
   "source": [
    "clf_evaluation[\"knn with minkowski\"] = train_predict(clf,X_train, X_test, y_test,y_train )[0]\n",
    "clf_report[\"knn with minkowski\"] = train_predict(clf,X_train, X_test, y_test, y_train)[1]"
   ]
  },
  {
   "cell_type": "code",
   "execution_count": 58,
   "id": "75bf7334",
   "metadata": {},
   "outputs": [
    {
     "name": "stdout",
     "output_type": "stream",
     "text": [
      "LogisticRegression\n",
      "              precision    recall  f1-score   support\n",
      "\n",
      "           0       0.86      0.78      0.81       107\n",
      "           1       0.58      0.70      0.63        47\n",
      "\n",
      "    accuracy                           0.75       154\n",
      "   macro avg       0.72      0.74      0.72       154\n",
      "weighted avg       0.77      0.75      0.76       154\n",
      "\n",
      "---------------------------------------------------------\n",
      "SVC\n",
      "              precision    recall  f1-score   support\n",
      "\n",
      "           0       0.82      0.90      0.86       107\n",
      "           1       0.70      0.55      0.62        47\n",
      "\n",
      "    accuracy                           0.79       154\n",
      "   macro avg       0.76      0.73      0.74       154\n",
      "weighted avg       0.78      0.79      0.78       154\n",
      "\n",
      "---------------------------------------------------------\n",
      "DecisionTreeClassifier\n",
      "              precision    recall  f1-score   support\n",
      "\n",
      "           0       0.85      0.86      0.86       107\n",
      "           1       0.67      0.66      0.67        47\n",
      "\n",
      "    accuracy                           0.80       154\n",
      "   macro avg       0.76      0.76      0.76       154\n",
      "weighted avg       0.80      0.80      0.80       154\n",
      "\n",
      "---------------------------------------------------------\n",
      "KNN with euclidean\n",
      "              precision    recall  f1-score   support\n",
      "\n",
      "           0       0.85      0.86      0.86       107\n",
      "           1       0.67      0.66      0.67        47\n",
      "\n",
      "    accuracy                           0.80       154\n",
      "   macro avg       0.76      0.76      0.76       154\n",
      "weighted avg       0.80      0.80      0.80       154\n",
      "\n",
      "---------------------------------------------------------\n",
      "KNN with manhattan\n",
      "              precision    recall  f1-score   support\n",
      "\n",
      "           0       0.85      0.86      0.86       107\n",
      "           1       0.67      0.66      0.67        47\n",
      "\n",
      "    accuracy                           0.80       154\n",
      "   macro avg       0.76      0.76      0.76       154\n",
      "weighted avg       0.80      0.80      0.80       154\n",
      "\n",
      "---------------------------------------------------------\n",
      "knn with minkowski\n",
      "              precision    recall  f1-score   support\n",
      "\n",
      "           0       0.85      0.86      0.86       107\n",
      "           1       0.67      0.66      0.67        47\n",
      "\n",
      "    accuracy                           0.80       154\n",
      "   macro avg       0.76      0.76      0.76       154\n",
      "weighted avg       0.80      0.80      0.80       154\n",
      "\n",
      "---------------------------------------------------------\n"
     ]
    }
   ],
   "source": [
    "for key in clf_report:\n",
    "    print(key)\n",
    "    print(clf_report[key])\n",
    "    print('---------------------------------------------------------')"
   ]
  },
  {
   "cell_type": "code",
   "execution_count": 55,
   "id": "55abc9b0",
   "metadata": {},
   "outputs": [
    {
     "name": "stdout",
     "output_type": "stream",
     "text": [
      "LogisticRegression\n",
      "{'train_time': 0.03, 'pred_time': 0.0, 'acc_train': 0.76, 'acc_test': 0.75, 'r2_score_train': 0.24, 'r2_score_test': 0.25, 'f1_train': 0.69, 'f1_test': 0.63}\n",
      "---------------------------------------------------------\n",
      "SVC\n",
      "{'train_time': 0.04, 'pred_time': 0.08, 'acc_train': 0.81, 'acc_test': 0.79, 'r2_score_train': 0.19, 'r2_score_test': 0.21, 'f1_train': 0.72, 'f1_test': 0.62}\n",
      "---------------------------------------------------------\n",
      "DecisionTreeClassifier\n",
      "{'train_time': 0.02, 'pred_time': 0.0, 'acc_train': 1.0, 'acc_test': 0.8, 'r2_score_train': 0.0, 'r2_score_test': 0.2, 'f1_train': 1.0, 'f1_test': 0.67}\n",
      "---------------------------------------------------------\n",
      "KNN with euclidean\n",
      "{'train_time': 0.01, 'pred_time': 0.0, 'acc_train': 1.0, 'acc_test': 0.8, 'r2_score_train': 0.0, 'r2_score_test': 0.2, 'f1_train': 1.0, 'f1_test': 0.67}\n",
      "---------------------------------------------------------\n",
      "KNN with manhattan\n",
      "{'train_time': 0.01, 'pred_time': 0.0, 'acc_train': 1.0, 'acc_test': 0.8, 'r2_score_train': 0.0, 'r2_score_test': 0.2, 'f1_train': 1.0, 'f1_test': 0.67}\n",
      "---------------------------------------------------------\n",
      "knn with minkowski\n",
      "{'train_time': 0.01, 'pred_time': 0.0, 'acc_train': 1.0, 'acc_test': 0.8, 'r2_score_train': 0.0, 'r2_score_test': 0.2, 'f1_train': 1.0, 'f1_test': 0.67}\n",
      "---------------------------------------------------------\n"
     ]
    }
   ],
   "source": [
    "for key in clf_evaluation:\n",
    "    print(key)\n",
    "    print(clf_evaluation[key])\n",
    "    print('---------------------------------------------------------')"
   ]
  },
  {
   "cell_type": "code",
   "execution_count": 59,
   "id": "21540321",
   "metadata": {},
   "outputs": [
    {
     "data": {
      "text/html": [
       "<div>\n",
       "<style scoped>\n",
       "    .dataframe tbody tr th:only-of-type {\n",
       "        vertical-align: middle;\n",
       "    }\n",
       "\n",
       "    .dataframe tbody tr th {\n",
       "        vertical-align: top;\n",
       "    }\n",
       "\n",
       "    .dataframe thead th {\n",
       "        text-align: right;\n",
       "    }\n",
       "</style>\n",
       "<table border=\"1\" class=\"dataframe\">\n",
       "  <thead>\n",
       "    <tr style=\"text-align: right;\">\n",
       "      <th></th>\n",
       "      <th>LogisticRegression</th>\n",
       "      <th>SVC</th>\n",
       "      <th>DecisionTreeClassifier</th>\n",
       "      <th>KNN with euclidean</th>\n",
       "      <th>KNN with manhattan</th>\n",
       "      <th>knn with minkowski</th>\n",
       "    </tr>\n",
       "  </thead>\n",
       "  <tbody>\n",
       "    <tr>\n",
       "      <th>train_time</th>\n",
       "      <td>0.03</td>\n",
       "      <td>0.04</td>\n",
       "      <td>0.02</td>\n",
       "      <td>0.01</td>\n",
       "      <td>0.01</td>\n",
       "      <td>0.01</td>\n",
       "    </tr>\n",
       "    <tr>\n",
       "      <th>pred_time</th>\n",
       "      <td>0.00</td>\n",
       "      <td>0.08</td>\n",
       "      <td>0.00</td>\n",
       "      <td>0.00</td>\n",
       "      <td>0.00</td>\n",
       "      <td>0.00</td>\n",
       "    </tr>\n",
       "    <tr>\n",
       "      <th>acc_train</th>\n",
       "      <td>0.76</td>\n",
       "      <td>0.81</td>\n",
       "      <td>1.00</td>\n",
       "      <td>1.00</td>\n",
       "      <td>1.00</td>\n",
       "      <td>1.00</td>\n",
       "    </tr>\n",
       "    <tr>\n",
       "      <th>acc_test</th>\n",
       "      <td>0.75</td>\n",
       "      <td>0.79</td>\n",
       "      <td>0.80</td>\n",
       "      <td>0.80</td>\n",
       "      <td>0.80</td>\n",
       "      <td>0.80</td>\n",
       "    </tr>\n",
       "    <tr>\n",
       "      <th>r2_score_train</th>\n",
       "      <td>0.24</td>\n",
       "      <td>0.19</td>\n",
       "      <td>0.00</td>\n",
       "      <td>0.00</td>\n",
       "      <td>0.00</td>\n",
       "      <td>0.00</td>\n",
       "    </tr>\n",
       "    <tr>\n",
       "      <th>r2_score_test</th>\n",
       "      <td>0.25</td>\n",
       "      <td>0.21</td>\n",
       "      <td>0.20</td>\n",
       "      <td>0.20</td>\n",
       "      <td>0.20</td>\n",
       "      <td>0.20</td>\n",
       "    </tr>\n",
       "    <tr>\n",
       "      <th>f1_train</th>\n",
       "      <td>0.69</td>\n",
       "      <td>0.72</td>\n",
       "      <td>1.00</td>\n",
       "      <td>1.00</td>\n",
       "      <td>1.00</td>\n",
       "      <td>1.00</td>\n",
       "    </tr>\n",
       "    <tr>\n",
       "      <th>f1_test</th>\n",
       "      <td>0.63</td>\n",
       "      <td>0.62</td>\n",
       "      <td>0.67</td>\n",
       "      <td>0.67</td>\n",
       "      <td>0.67</td>\n",
       "      <td>0.67</td>\n",
       "    </tr>\n",
       "  </tbody>\n",
       "</table>\n",
       "</div>"
      ],
      "text/plain": [
       "                LogisticRegression   SVC  DecisionTreeClassifier  \\\n",
       "train_time                    0.03  0.04                    0.02   \n",
       "pred_time                     0.00  0.08                    0.00   \n",
       "acc_train                     0.76  0.81                    1.00   \n",
       "acc_test                      0.75  0.79                    0.80   \n",
       "r2_score_train                0.24  0.19                    0.00   \n",
       "r2_score_test                 0.25  0.21                    0.20   \n",
       "f1_train                      0.69  0.72                    1.00   \n",
       "f1_test                       0.63  0.62                    0.67   \n",
       "\n",
       "                KNN with euclidean  KNN with manhattan  knn with minkowski  \n",
       "train_time                    0.01                0.01                0.01  \n",
       "pred_time                     0.00                0.00                0.00  \n",
       "acc_train                     1.00                1.00                1.00  \n",
       "acc_test                      0.80                0.80                0.80  \n",
       "r2_score_train                0.00                0.00                0.00  \n",
       "r2_score_test                 0.20                0.20                0.20  \n",
       "f1_train                      1.00                1.00                1.00  \n",
       "f1_test                       0.67                0.67                0.67  "
      ]
     },
     "execution_count": 59,
     "metadata": {},
     "output_type": "execute_result"
    }
   ],
   "source": [
    "results = pd.DataFrame.from_dict(clf_evaluation)\n",
    "results"
   ]
  },
  {
   "cell_type": "code",
   "execution_count": null,
   "id": "83bdec10",
   "metadata": {},
   "outputs": [],
   "source": []
  },
  {
   "cell_type": "code",
   "execution_count": null,
   "id": "07a0b7ef",
   "metadata": {},
   "outputs": [],
   "source": []
  },
  {
   "cell_type": "code",
   "execution_count": null,
   "id": "0a037458",
   "metadata": {},
   "outputs": [],
   "source": []
  }
 ],
 "metadata": {
  "kernelspec": {
   "display_name": "Python 3",
   "language": "python",
   "name": "python3"
  },
  "language_info": {
   "codemirror_mode": {
    "name": "ipython",
    "version": 3
   },
   "file_extension": ".py",
   "mimetype": "text/x-python",
   "name": "python",
   "nbconvert_exporter": "python",
   "pygments_lexer": "ipython3",
   "version": "3.7.9"
  },
  "toc": {
   "base_numbering": 1,
   "nav_menu": {},
   "number_sections": true,
   "sideBar": true,
   "skip_h1_title": false,
   "title_cell": "Table of Contents",
   "title_sidebar": "Contents",
   "toc_cell": false,
   "toc_position": {},
   "toc_section_display": true,
   "toc_window_display": true
  }
 },
 "nbformat": 4,
 "nbformat_minor": 5
}
